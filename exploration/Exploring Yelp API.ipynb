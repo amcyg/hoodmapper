{
 "cells": [
  {
   "cell_type": "code",
   "execution_count": 2,
   "metadata": {
    "collapsed": true
   },
   "outputs": [],
   "source": [
    "import pandas as pd\n",
    "import numpy as np\n",
    "pd.set_option('display.max_columns', None)\n",
    "from yelp.client import Client\n",
    "from yelp.oauth1_authenticator import Oauth1Authenticator\n",
    "import json"
   ]
  },
  {
   "cell_type": "code",
   "execution_count": 4,
   "metadata": {
    "collapsed": false
   },
   "outputs": [],
   "source": [
    "# read API keys\n",
    "with open('../yelp_keys.json') as cred:\n",
    "    creds = json.load(cred)\n",
    "    auth = Oauth1Authenticator(**creds)\n",
    "    client = Client(auth)"
   ]
  },
  {
   "cell_type": "code",
   "execution_count": 27,
   "metadata": {
    "collapsed": false
   },
   "outputs": [
    {
     "name": "stdout",
     "output_type": "stream",
     "text": [
      "['API_HOST', 'Business', 'Client', 'ErrorHandler', 'PhoneSearch', 'Search', '__builtins__', '__doc__', '__file__', '__name__', '__package__', 'inspect', 'json', 'six']\n"
     ]
    }
   ],
   "source": []
  },
  {
   "cell_type": "code",
   "execution_count": 24,
   "metadata": {
    "collapsed": false
   },
   "outputs": [
    {
     "name": "stdout",
     "output_type": "stream",
     "text": [
      "1081\n",
      "The Running Dog Ranch [Category(name=u'Pet Training', alias=u'pet_training')]\n",
      "Jack London Pet Services [Category(name=u'Dog Walkers', alias=u'dogwalkers')]\n",
      "Tamalpais Dog Grooming [Category(name=u'Pet Groomers', alias=u'groomer')]\n",
      "VIP PetCare [Category(name=u'Pet Services', alias=u'petservices'), Category(name=u'Veterinarians', alias=u'vet')]\n",
      "No Leashes In Heaven [Category(name=u'Pet Boarding/Pet Sitting', alias=u'pet_sitting')]\n",
      "Dogs Unleashed [Category(name=u'Dog Walkers', alias=u'dogwalkers'), Category(name=u'Pet Training', alias=u'pet_training')]\n",
      "Stray Dog Strut [Category(name=u'Pet Training', alias=u'pet_training')]\n",
      "Fetch! Pet Care of Contra Costa Central [Category(name=u'Dog Walkers', alias=u'dogwalkers'), Category(name=u'Pet Boarding/Pet Sitting', alias=u'pet_sitting')]\n",
      "The Pet Nanny [Category(name=u'Pet Boarding/Pet Sitting', alias=u'pet_sitting'), Category(name=u'Dog Walkers', alias=u'dogwalkers')]\n",
      "SIRIUS Puppy & Dog Training [Category(name=u'Pet Training', alias=u'pet_training')]\n",
      "The Canine-Kid Connection [Category(name=u'Pet Training', alias=u'pet_training')]\n",
      "Happy Dogs Happy Life Dog Care Services [Category(name=u'Dog Walkers', alias=u'dogwalkers')]\n",
      "Tamalpais Dogs [Category(name=u'Dog Walkers', alias=u'dogwalkers'), Category(name=u'Pet Boarding/Pet Sitting', alias=u'pet_sitting')]\n",
      "The Alpha Dog Walker [Category(name=u'Dog Walkers', alias=u'dogwalkers'), Category(name=u'Pet Boarding/Pet Sitting', alias=u'pet_sitting')]\n",
      "Amores Perros [Category(name=u'Dog Walkers', alias=u'dogwalkers')]\n",
      "Dog Kisses Camp [Category(name=u'Pet Boarding/Pet Sitting', alias=u'pet_sitting'), Category(name=u'Dog Walkers', alias=u'dogwalkers'), Category(name=u'Pet Training', alias=u'pet_training')]\n",
      "Walk This Way [Category(name=u'Dog Walkers', alias=u'dogwalkers'), Category(name=u'Pet Boarding/Pet Sitting', alias=u'pet_sitting')]\n",
      "Delighted Dogs [Category(name=u'Pet Training', alias=u'pet_training'), Category(name=u'Dog Walkers', alias=u'dogwalkers'), Category(name=u'Pet Boarding/Pet Sitting', alias=u'pet_sitting')]\n",
      "Playground Hounds [Category(name=u'Dog Walkers', alias=u'dogwalkers'), Category(name=u'Pet Boarding/Pet Sitting', alias=u'pet_sitting')]\n",
      "Hand in Paw [Category(name=u'Dog Walkers', alias=u'dogwalkers')]\n"
     ]
    }
   ],
   "source": [
    "sf = client.search(location='San Francisco', category_filter=\"petservices\", limit=20, offset=980)\n",
    "print sf.total\n",
    "for result in sf.businesses:\n",
    "    print result.name, result.categories"
   ]
  },
  {
   "cell_type": "code",
   "execution_count": 61,
   "metadata": {
    "collapsed": false
   },
   "outputs": [
    {
     "name": "stdout",
     "output_type": "stream",
     "text": [
      "[Category(name=u'Ethiopian', alias=u'ethiopian')]\n",
      "[Category(name=u'Chocolatiers & Shops', alias=u'chocolate'), Category(name=u'Coffee & Tea', alias=u'coffee')]\n",
      "[Category(name=u'Falafel', alias=u'falafel'), Category(name=u'Vegan', alias=u'vegan')]\n",
      "[Category(name=u'Coffee & Tea', alias=u'coffee')]\n",
      "[Category(name=u'Landmarks & Historical Buildings', alias=u'landmarks'), Category(name=u'Venues & Event Spaces', alias=u'venues')]\n",
      "[Category(name=u'Sushi Bars', alias=u'sushi'), Category(name=u'Japanese', alias=u'japanese'), Category(name=u'Vegan', alias=u'vegan')]\n",
      "[Category(name=u'Coffee & Tea', alias=u'coffee')]\n",
      "[Category(name=u'Food Trucks', alias=u'foodtrucks'), Category(name=u'Juice Bars & Smoothies', alias=u'juicebars'), Category(name=u'Hawaiian', alias=u'hawaiian')]\n",
      "[Category(name=u'Creperies', alias=u'creperies'), Category(name=u'Delis', alias=u'delis'), Category(name=u'Bubble Tea', alias=u'bubbletea')]\n",
      "[Category(name=u'Hawaiian', alias=u'hawaiian'), Category(name=u'Asian Fusion', alias=u'asianfusion'), Category(name=u'Chinese', alias=u'chinese')]\n",
      "[Category(name=u'Coffee & Tea', alias=u'coffee')]\n",
      "[Category(name=u'Parks', alias=u'parks')]\n",
      "[Category(name=u'Bakeries', alias=u'bakeries'), Category(name=u'Coffee & Tea', alias=u'coffee')]\n",
      "[Category(name=u'Coffee & Tea', alias=u'coffee')]\n",
      "[Category(name=u'Sandwiches', alias=u'sandwiches')]\n",
      "[Category(name=u'Vegan', alias=u'vegan'), Category(name=u'Bakeries', alias=u'bakeries'), Category(name=u'Cupcakes', alias=u'cupcakes')]\n",
      "[Category(name=u'Tea Rooms', alias=u'tea'), Category(name=u'Coffee & Tea', alias=u'coffee')]\n",
      "[Category(name=u'Coffee & Tea', alias=u'coffee')]\n",
      "[Category(name=u'Pizza', alias=u'pizza')]\n",
      "[Category(name=u'Parks', alias=u'parks'), Category(name=u'Landmarks & Historical Buildings', alias=u'landmarks')]\n",
      "[Category(name=u'French', alias=u'french')]\n",
      "[Category(name=u'Local Flavor', alias=u'localflavor'), Category(name=u'Hiking', alias=u'hiking')]\n",
      "[Category(name=u'Coffee & Tea', alias=u'coffee')]\n",
      "[Category(name=u'Mexican', alias=u'mexican'), Category(name=u'Food Stands', alias=u'foodstands')]\n",
      "[Category(name=u'Delis', alias=u'delis'), Category(name=u'Sandwiches', alias=u'sandwiches')]\n",
      "[Category(name=u'Sushi Bars', alias=u'sushi'), Category(name=u'Japanese', alias=u'japanese')]\n",
      "[Category(name=u'Vietnamese', alias=u'vietnamese'), Category(name=u'Sandwiches', alias=u'sandwiches')]\n",
      "[Category(name=u'Coffee & Tea', alias=u'coffee')]\n",
      "[Category(name=u'Parks', alias=u'parks')]\n",
      "[Category(name=u'Coffee & Tea', alias=u'coffee'), Category(name=u'Sandwiches', alias=u'sandwiches'), Category(name=u'Vietnamese', alias=u'vietnamese')]\n",
      "[Category(name=u'Delis', alias=u'delis'), Category(name=u'Meat Shops', alias=u'meats'), Category(name=u'Sandwiches', alias=u'sandwiches')]\n",
      "[Category(name=u'Coffee & Tea', alias=u'coffee')]\n",
      "[Category(name=u'Coffee & Tea', alias=u'coffee')]\n",
      "[Category(name=u'Delis', alias=u'delis'), Category(name=u'Sandwiches', alias=u'sandwiches'), Category(name=u'Caterers', alias=u'catering')]\n",
      "[Category(name=u'Creperies', alias=u'creperies'), Category(name=u'Food Stands', alias=u'foodstands')]\n",
      "[Category(name=u'Beer, Wine & Spirits', alias=u'beer_and_wine'), Category(name=u'Beer Bar', alias=u'beerbar')]\n",
      "[Category(name=u'Sandwiches', alias=u'sandwiches')]\n",
      "[Category(name=u'Local Flavor', alias=u'localflavor')]\n",
      "[Category(name=u'German', alias=u'german')]\n",
      "[Category(name=u'Local Flavor', alias=u'localflavor')]\n",
      "[Category(name=u'Local Flavor', alias=u'localflavor')]\n",
      "[Category(name=u'Bakeries', alias=u'bakeries'), Category(name=u'Sandwiches', alias=u'sandwiches')]\n",
      "[Category(name=u'French', alias=u'french'), Category(name=u'Salad', alias=u'salad'), Category(name=u'Sandwiches', alias=u'sandwiches')]\n",
      "[Category(name=u'Coffee & Tea', alias=u'coffee')]\n",
      "[Category(name=u'Bakeries', alias=u'bakeries'), Category(name=u'Gluten-Free', alias=u'gluten_free')]\n",
      "[Category(name=u'Chinese', alias=u'chinese'), Category(name=u'Food Trucks', alias=u'foodtrucks'), Category(name=u'Sandwiches', alias=u'sandwiches')]\n",
      "[Category(name=u'Parks', alias=u'parks')]\n",
      "[Category(name=u'Parks', alias=u'parks')]\n",
      "[Category(name=u'Afghan', alias=u'afghani'), Category(name=u'Middle Eastern', alias=u'mideastern')]\n",
      "[Category(name=u'Seafood', alias=u'seafood')]\n",
      "[Category(name=u'Coffee & Tea', alias=u'coffee'), Category(name=u'Sandwiches', alias=u'sandwiches'), Category(name=u'Turkish', alias=u'turkish')]\n",
      "[Category(name=u'Coffee & Tea', alias=u'coffee')]\n",
      "[Category(name=u'American (New)', alias=u'newamerican')]\n",
      "[Category(name=u'Vietnamese', alias=u'vietnamese'), Category(name=u'Bagels', alias=u'bagels'), Category(name=u'Cafes', alias=u'cafes')]\n",
      "[Category(name=u'Videos & Video Game Rental', alias=u'videoandgames'), Category(name=u'Coffee & Tea', alias=u'coffee')]\n",
      "[Category(name=u'Italian', alias=u'italian')]\n",
      "[Category(name=u'Delis', alias=u'delis'), Category(name=u'Cafes', alias=u'cafes'), Category(name=u'Sandwiches', alias=u'sandwiches')]\n",
      "[Category(name=u'Vegan', alias=u'vegan'), Category(name=u'Thai', alias=u'thai'), Category(name=u'Vegetarian', alias=u'vegetarian')]\n",
      "[Category(name=u'Wine Bars', alias=u'wine_bars'), Category(name=u'Lounges', alias=u'lounges'), Category(name=u'Beer, Wine & Spirits', alias=u'beer_and_wine')]\n",
      "[Category(name=u'Pubs', alias=u'pubs')]\n",
      "[Category(name=u'Local Flavor', alias=u'localflavor')]\n",
      "[Category(name=u'Coffee & Tea', alias=u'coffee'), Category(name=u'Sandwiches', alias=u'sandwiches'), Category(name=u'Breakfast & Brunch', alias=u'breakfast_brunch')]\n",
      "[Category(name=u'Pizza', alias=u'pizza')]\n",
      "[Category(name=u'Coffee & Tea', alias=u'coffee')]\n",
      "[Category(name=u'Burgers', alias=u'burgers'), Category(name=u'Salad', alias=u'salad'), Category(name=u'American (Traditional)', alias=u'tradamerican')]\n",
      "[Category(name=u'Greek', alias=u'greek'), Category(name=u'Mediterranean', alias=u'mediterranean')]\n",
      "[Category(name=u'Wine Bars', alias=u'wine_bars')]\n",
      "[Category(name=u'Sushi Bars', alias=u'sushi'), Category(name=u'Japanese', alias=u'japanese')]\n",
      "[Category(name=u'Grocery', alias=u'grocery'), Category(name=u'Italian', alias=u'italian')]\n",
      "[Category(name=u'Delis', alias=u'delis'), Category(name=u'Gelato', alias=u'gelato'), Category(name=u'Sandwiches', alias=u'sandwiches')]\n",
      "[Category(name=u'Coffee & Tea', alias=u'coffee')]\n",
      "[Category(name=u'Parks', alias=u'parks'), Category(name=u'Hiking', alias=u'hiking')]\n",
      "[Category(name=u'Delis', alias=u'delis'), Category(name=u'Sandwiches', alias=u'sandwiches'), Category(name=u'Salad', alias=u'salad')]\n",
      "[Category(name=u'Bakeries', alias=u'bakeries'), Category(name=u'Sandwiches', alias=u'sandwiches')]\n",
      "[Category(name=u'American (New)', alias=u'newamerican')]\n",
      "[Category(name=u'Coffee & Tea', alias=u'coffee')]\n",
      "[Category(name=u'Seafood', alias=u'seafood'), Category(name=u'Sandwiches', alias=u'sandwiches'), Category(name=u'Burgers', alias=u'burgers')]\n",
      "[Category(name=u'Tapas/Small Plates', alias=u'tapasmallplates'), Category(name=u'American (New)', alias=u'newamerican')]\n",
      "[Category(name=u'Coffee & Tea', alias=u'coffee'), Category(name=u'Breakfast & Brunch', alias=u'breakfast_brunch'), Category(name=u'Sandwiches', alias=u'sandwiches')]\n",
      "[Category(name=u'Delis', alias=u'delis')]\n",
      "[Category(name=u'Mexican', alias=u'mexican'), Category(name=u'Burgers', alias=u'burgers'), Category(name=u'Gastropubs', alias=u'gastropubs')]\n",
      "[Category(name=u'Parks', alias=u'parks'), Category(name=u'Beaches', alias=u'beaches')]\n",
      "[Category(name=u'Mexican', alias=u'mexican')]\n",
      "[Category(name=u'Parks', alias=u'parks')]\n",
      "[Category(name=u'Coffee & Tea', alias=u'coffee'), Category(name=u'Chocolatiers & Shops', alias=u'chocolate')]\n",
      "[Category(name=u'Chinese', alias=u'chinese'), Category(name=u'Food Trucks', alias=u'foodtrucks')]\n",
      "[Category(name=u'Lounges', alias=u'lounges')]\n",
      "[Category(name=u'Chicken Wings', alias=u'chicken_wings'), Category(name=u'Specialty Food', alias=u'gourmet')]\n",
      "[Category(name=u'Coffee & Tea', alias=u'coffee'), Category(name=u'Sandwiches', alias=u'sandwiches'), Category(name=u'Juice Bars & Smoothies', alias=u'juicebars')]\n",
      "[Category(name=u'Coffee & Tea', alias=u'coffee')]\n",
      "[Category(name=u'Italian', alias=u'italian')]\n",
      "[Category(name=u'Sushi Bars', alias=u'sushi'), Category(name=u'Japanese', alias=u'japanese')]\n",
      "[Category(name=u'Grocery', alias=u'grocery'), Category(name=u'Middle Eastern', alias=u'mideastern')]\n",
      "[Category(name=u'Beer, Wine & Spirits', alias=u'beer_and_wine'), Category(name=u'Wine Bars', alias=u'wine_bars')]\n",
      "[Category(name=u'Italian', alias=u'italian')]\n",
      "[Category(name=u'Street Vendors', alias=u'streetvendors'), Category(name=u'Southern', alias=u'southern')]\n",
      "[Category(name=u'Ice Cream & Frozen Yogurt', alias=u'icecream'), Category(name=u'Creperies', alias=u'creperies')]\n",
      "[Category(name=u'Scandinavian', alias=u'scandinavian'), Category(name=u'Bars', alias=u'bars')]\n",
      "[Category(name=u'French', alias=u'french')]\n",
      "[Category(name=u'American (New)', alias=u'newamerican')]\n"
     ]
    }
   ],
   "source": [
    "max_businesses = 100\n",
    "offset = 0\n",
    "\n",
    "while offset < max_businesses:\n",
    "    results = client.search(location='San Francisco', limit=20, offset=offset)\n",
    "    for result in results.businesses:\n",
    "        print result.categories\n",
    "    offset += len(results.businesses)\n"
   ]
  },
  {
   "cell_type": "code",
   "execution_count": 23,
   "metadata": {
    "collapsed": false
   },
   "outputs": [],
   "source": [
    "sea = client.search(location='Seattle')"
   ]
  },
  {
   "cell_type": "code",
   "execution_count": 24,
   "metadata": {
    "collapsed": false
   },
   "outputs": [
    {
     "data": {
      "text/plain": [
       "33330"
      ]
     },
     "execution_count": 24,
     "metadata": {},
     "output_type": "execute_result"
    }
   ],
   "source": [
    "sea.total"
   ]
  },
  {
   "cell_type": "code",
   "execution_count": 29,
   "metadata": {
    "collapsed": false
   },
   "outputs": [
    {
     "name": "stdout",
     "output_type": "stream",
     "text": [
      "[{'Latitude': 37.7847191, 'City': u'San Francisco', 'Categories': [Category(name=u'Ethiopian', alias=u'ethiopian')], 'Longitude': -122.414172, 'Rating': 5.0}, {'Latitude': 37.7852285, 'City': u'San Francisco', 'Categories': [Category(name=u'Chocolatiers & Shops', alias=u'chocolate'), Category(name=u'Coffee & Tea', alias=u'coffee')], 'Longitude': -122.4160527, 'Rating': 4.5}, {'Latitude': 37.7812488, 'City': u'San Francisco', 'Categories': [Category(name=u'Falafel', alias=u'falafel'), Category(name=u'Vegan', alias=u'vegan')], 'Longitude': -122.411304, 'Rating': 4.5}, {'Latitude': 37.7672036024795, 'City': u'San Francisco', 'Categories': [Category(name=u'Coffee & Tea', alias=u'coffee')], 'Longitude': -122.403616905212, 'Rating': 5.0}, {'Latitude': 37.7793900915108, 'City': u'San Francisco', 'Categories': [Category(name=u'Landmarks & Historical Buildings', alias=u'landmarks'), Category(name=u'Venues & Event Spaces', alias=u'venues')], 'Longitude': -122.418615818024, 'Rating': 4.5}, {'Latitude': 37.7682280540466, 'City': u'San Francisco', 'Categories': [Category(name=u'Sushi Bars', alias=u'sushi'), Category(name=u'Japanese', alias=u'japanese'), Category(name=u'Vegan', alias=u'vegan')], 'Longitude': -122.421650066972, 'Rating': 4.5}, {'Latitude': 37.782383, 'City': u'San Francisco', 'Categories': [Category(name=u'Coffee & Tea', alias=u'coffee')], 'Longitude': -122.420526, 'Rating': 4.5}, {'Latitude': 37.7827576494972, 'City': u'San Francisco', 'Categories': [Category(name=u'Food Trucks', alias=u'foodtrucks'), Category(name=u'Juice Bars & Smoothies', alias=u'juicebars'), Category(name=u'Hawaiian', alias=u'hawaiian')], 'Longitude': -122.407829469394, 'Rating': 4.5}, {'Latitude': 37.75948, 'City': u'San Francisco', 'Categories': [Category(name=u'Creperies', alias=u'creperies'), Category(name=u'Delis', alias=u'delis'), Category(name=u'Bubble Tea', alias=u'bubbletea')], 'Longitude': -122.41943, 'Rating': 5.0}, {'Latitude': 37.7883678084094, 'City': u'San Francisco', 'Categories': [Category(name=u'Hawaiian', alias=u'hawaiian'), Category(name=u'Asian Fusion', alias=u'asianfusion'), Category(name=u'Chinese', alias=u'chinese')], 'Longitude': -122.414625026286, 'Rating': 4.5}]\n"
     ]
    }
   ],
   "source": [
    "sf_biz = []\n",
    "for index in range(10):\n",
    "    categories = sf.businesses[index].categories\n",
    "    rating = sf.businesses[index].rating\n",
    "    city = sf.businesses[index].location.city\n",
    "    latitude = sf.businesses[index].location.coordinate.latitude\n",
    "    longitude = sf.businesses[index].location.coordinate.longitude\n",
    "    sf_biz.append({'City': city, 'Latitude': latitude, 'Longitude': longitude, 'Categories': categories, 'Rating': rating})\n",
    "print sf_biz"
   ]
  },
  {
   "cell_type": "markdown",
   "metadata": {},
   "source": [
    "<h3>It looks like search results are limited to one category, even if they are related to multiples. Also, good to keep in mind that only businesses that have reviews will be listed. \n",
    "<br>Let's limit our search to these categories:\n",
    "<ul>\n",
    "<li>Restaurants</li>\n",
    "<li>Religious Organizations</li>\n",
    "<li>Pets</li>\n",
    "<li>Nightlife (including Nightlife > Bars)</li>\n",
    "<li>Hotels and Travel</li>\n",
    "</ul>\n",
    "<br>Other ideas: group categories based on \"hippie/organic\", \"preggo/birthing mamas\", \"hipster\", etc.<br>\n",
    "<br>BIG QUESTION: When searching for items in a category, will they include their individual subcategories?\n",
    "</h3>"
   ]
  },
  {
   "cell_type": "markdown",
   "metadata": {
    "collapsed": true
   },
   "source": []
  }
 ],
 "metadata": {
  "kernelspec": {
   "display_name": "Python 2",
   "language": "python",
   "name": "python2"
  },
  "language_info": {
   "codemirror_mode": {
    "name": "ipython",
    "version": 2
   },
   "file_extension": ".py",
   "mimetype": "text/x-python",
   "name": "python",
   "nbconvert_exporter": "python",
   "pygments_lexer": "ipython2",
   "version": "2.7.11"
  }
 },
 "nbformat": 4,
 "nbformat_minor": 0
}
