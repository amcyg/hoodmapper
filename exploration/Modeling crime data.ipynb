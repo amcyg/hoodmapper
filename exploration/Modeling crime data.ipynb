{
 "cells": [
  {
   "cell_type": "code",
   "execution_count": 140,
   "metadata": {
    "collapsed": true
   },
   "outputs": [],
   "source": [
    "import pandas as pd\n",
    "import numpy as np\n",
    "from sklearn.metrics.pairwise import cosine_similarity\n",
    "pd.set_option('display.max_columns', None)\n",
    "pd.set_option('display.max_rows', None)"
   ]
  },
  {
   "cell_type": "code",
   "execution_count": 127,
   "metadata": {
    "collapsed": true
   },
   "outputs": [],
   "source": [
    "# import crime density data\n",
    "sf = pd.read_csv('../data/crime_densities_sf.csv')\n",
    "sea = pd.read_csv('../data/crime_densities_sea.csv')"
   ]
  },
  {
   "cell_type": "code",
   "execution_count": 161,
   "metadata": {
    "collapsed": false
   },
   "outputs": [],
   "source": [
    "sf = sf.fillna(value=0)"
   ]
  },
  {
   "cell_type": "code",
   "execution_count": 162,
   "metadata": {
    "collapsed": false
   },
   "outputs": [],
   "source": [
    "def convert_hood_to_array(input_hood):\n",
    "    # convert to numpy array in format needed for cosine similarity comparison\n",
    "    input_hood = np.array(input_hood)[0][1:]\n",
    "    input_hood = input_hood.reshape(1, -1)\n",
    "    return input_hood\n",
    "\n",
    "def compare_hood_to_all_city_hoods(input_hood, hood_city_df, comparison_city_df, input_dict):\n",
    "    hood1 = hood_city_df.loc[hood_city_df['Neighborhood'] == input_hood]\n",
    "    hood1 = convert_hood_to_array(hood1)\n",
    "    for hood in comparison_city_df['Neighborhood']:\n",
    "        hood2 = comparison_city_df.loc[comparison_city_df['Neighborhood'] == hood]\n",
    "        hood2 = convert_hood_to_array(hood2)\n",
    "        if input_hood not in input_dict:\n",
    "            input_dict[input_hood] = {}\n",
    "            input_dict[input_hood][hood] = cosine_similarity(hood1, hood2)[0][0]\n",
    "        else:\n",
    "            input_dict[input_hood][hood] = cosine_similarity(hood1, hood2)[0][0]\n",
    "    return input_dict\n",
    "\n",
    "# compare all Seattle neighborhoods with all SF neighborhoods\n",
    "# note: one optimization for this will be to, instead of a dictionary of dictionaries,\n",
    "# have a dictionary of tuples (hood_name, cosine_similarity), sorted by c_s\n",
    "comparisons = {}\n",
    "for hood in sea['Neighborhood']:\n",
    "    compare_hood_to_all_city_hoods(hood, sea, sf, comparisons)\n",
    "for hood in sf['Neighborhood']:\n",
    "    compare_hood_to_all_city_hoods(hood, sf, sea, comparisons)"
   ]
  },
  {
   "cell_type": "code",
   "execution_count": 163,
   "metadata": {
    "collapsed": false
   },
   "outputs": [
    {
     "name": "stdout",
     "output_type": "stream",
     "text": [
      "Diamond Heights 0.99986925066\n",
      "Sea Cliff 0.999302600771\n",
      "Jordan Park / Laurel Heights 0.999223025218\n",
      "Midtown Terrace 0.993682667429\n",
      "Buena Vista Park/Ashbury Heights 0.992939604208\n"
     ]
    }
   ],
   "source": [
    "city = comparisons['Fremont']\n",
    "for k in sorted(city, key=city.get, reverse=True)[:5]:\n",
    "    print k, city[k]"
   ]
  },
  {
   "cell_type": "code",
   "execution_count": 167,
   "metadata": {
    "collapsed": false
   },
   "outputs": [
    {
     "name": "stdout",
     "output_type": "stream",
     "text": [
      "International District 0.990793641508\n",
      "Industrial District 0.986695610241\n",
      "Belltown 0.97689250147\n",
      "First Hill 0.972486741981\n",
      "High Point 0.972361531727\n"
     ]
    }
   ],
   "source": [
    "city = comparisons['Yerba Buena']\n",
    "for k in sorted(city, key=city.get, reverse=True)[:5]:\n",
    "    print k, city[k]"
   ]
  },
  {
   "cell_type": "code",
   "execution_count": null,
   "metadata": {
    "collapsed": true
   },
   "outputs": [],
   "source": []
  }
 ],
 "metadata": {
  "kernelspec": {
   "display_name": "Python 2",
   "language": "python",
   "name": "python2"
  },
  "language_info": {
   "codemirror_mode": {
    "name": "ipython",
    "version": 2
   },
   "file_extension": ".py",
   "mimetype": "text/x-python",
   "name": "python",
   "nbconvert_exporter": "python",
   "pygments_lexer": "ipython2",
   "version": "2.7.11"
  }
 },
 "nbformat": 4,
 "nbformat_minor": 0
}
