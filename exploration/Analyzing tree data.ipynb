{
 "cells": [
  {
   "cell_type": "code",
   "execution_count": 2,
   "metadata": {
    "collapsed": true
   },
   "outputs": [],
   "source": [
    "import pandas as pd\n",
    "import numpy as np\n",
    "import shapefile\n",
    "pd.set_option('display.max_columns', None)"
   ]
  },
  {
   "cell_type": "code",
   "execution_count": 22,
   "metadata": {
    "collapsed": true
   },
   "outputs": [],
   "source": [
    "sf_trees = pd.read_csv('../downloads/Street_Tree_List.csv')"
   ]
  },
  {
   "cell_type": "markdown",
   "metadata": {},
   "source": [
    "<h3>San Francisco tree data is a bit messy. Roughly 10% of trees are missing lat/long coordinates. Will delete those.\n",
    "<br>Before cleaning: 90547 entries\n",
    "<br>After cleaning: 86439 entires\n",
    "<br>Only 4.5% of trees got deleted, which is acceptable.\n",
    "</h3>"
   ]
  },
  {
   "cell_type": "code",
   "execution_count": 23,
   "metadata": {
    "collapsed": false
   },
   "outputs": [
    {
     "data": {
      "text/html": [
       "<div>\n",
       "<table border=\"1\" class=\"dataframe\">\n",
       "  <thead>\n",
       "    <tr style=\"text-align: right;\">\n",
       "      <th></th>\n",
       "      <th>City</th>\n",
       "      <th>Latitude</th>\n",
       "      <th>Longitude</th>\n",
       "    </tr>\n",
       "  </thead>\n",
       "  <tbody>\n",
       "    <tr>\n",
       "      <th>0</th>\n",
       "      <td>San Francisco</td>\n",
       "      <td>37.778300</td>\n",
       "      <td>-122.507268</td>\n",
       "    </tr>\n",
       "    <tr>\n",
       "      <th>1</th>\n",
       "      <td>San Francisco</td>\n",
       "      <td>37.752547</td>\n",
       "      <td>-122.393785</td>\n",
       "    </tr>\n",
       "    <tr>\n",
       "      <th>2</th>\n",
       "      <td>San Francisco</td>\n",
       "      <td>37.780364</td>\n",
       "      <td>-122.405430</td>\n",
       "    </tr>\n",
       "    <tr>\n",
       "      <th>3</th>\n",
       "      <td>San Francisco</td>\n",
       "      <td>37.781660</td>\n",
       "      <td>-122.438551</td>\n",
       "    </tr>\n",
       "    <tr>\n",
       "      <th>4</th>\n",
       "      <td>San Francisco</td>\n",
       "      <td>37.789498</td>\n",
       "      <td>-122.388450</td>\n",
       "    </tr>\n",
       "  </tbody>\n",
       "</table>\n",
       "</div>"
      ],
      "text/plain": [
       "            City   Latitude   Longitude\n",
       "0  San Francisco  37.778300 -122.507268\n",
       "1  San Francisco  37.752547 -122.393785\n",
       "2  San Francisco  37.780364 -122.405430\n",
       "3  San Francisco  37.781660 -122.438551\n",
       "4  San Francisco  37.789498 -122.388450"
      ]
     },
     "execution_count": 23,
     "metadata": {},
     "output_type": "execute_result"
    }
   ],
   "source": [
    "sf_trees = sf_trees[np.isfinite(sf_trees['Latitude'])]\n",
    "sf_trees = sf_trees[['qSpecies', 'Latitude', 'Longitude']]\n",
    "sf_trees.columns = ['City', 'Latitude', 'Longitude']\n",
    "sf_trees = sf_trees.reset_index()\n",
    "sf_trees = sf_trees[['Latitude', 'Longitude']]\n",
    "sf_trees.insert(0, 'City', 'San Francisco')\n",
    "sf_trees.head()"
   ]
  },
  {
   "cell_type": "code",
   "execution_count": 5,
   "metadata": {
    "collapsed": false
   },
   "outputs": [],
   "source": [
    "sf_trees.to_csv('../data/sf_trees_raw.csv')"
   ]
  },
  {
   "cell_type": "markdown",
   "metadata": {},
   "source": [
    "<h3>Seattle tree data is a bit trickier because it comes in Shapefile format. Let's remember what we did with the neighborhood files, and figure out where the tree data is located. We don't really care about species, just that there is a tree in a specific lat/long coordinate.\n",
    "<br><br>There appear to be 136,549 tree records in Seattle.</h3>"
   ]
  },
  {
   "cell_type": "code",
   "execution_count": 6,
   "metadata": {
    "collapsed": true
   },
   "outputs": [],
   "source": [
    "sea = shapefile.Reader('../downloads/Trees/WGS84/Trees')"
   ]
  },
  {
   "cell_type": "code",
   "execution_count": 7,
   "metadata": {
    "collapsed": true
   },
   "outputs": [],
   "source": [
    "records = sea.records()\n",
    "fields = sea.fields\n",
    "shapes = sea.shapes()"
   ]
  },
  {
   "cell_type": "code",
   "execution_count": 8,
   "metadata": {
    "collapsed": false
   },
   "outputs": [
    {
     "name": "stdout",
     "output_type": "stream",
     "text": [
      "136549\n",
      "136549\n"
     ]
    }
   ],
   "source": [
    "print len(shapes)\n",
    "print len(records)"
   ]
  },
  {
   "cell_type": "code",
   "execution_count": 9,
   "metadata": {
    "collapsed": false
   },
   "outputs": [
    {
     "data": {
      "text/plain": [
       "[[-122.34418159899997, 47.61150370900003]]"
      ]
     },
     "execution_count": 9,
     "metadata": {},
     "output_type": "execute_result"
    }
   ],
   "source": [
    "shapes[0].points"
   ]
  },
  {
   "cell_type": "code",
   "execution_count": 12,
   "metadata": {
    "collapsed": false
   },
   "outputs": [
    {
     "name": "stdout",
     "output_type": "stream",
     "text": [
      "47.611503709 -122.344181599\n"
     ]
    }
   ],
   "source": [
    "# coords = []\n",
    "# for shape in shapes:\n",
    "#     latitude = shape.points[0][0]\n",
    "#     longitude = shape.points[0][1]\n",
    "#     coords.append()\n",
    "\n",
    "shape = shapes[0]\n",
    "latitude = shape.points[0][1]\n",
    "longitude = shape.points[0][0]\n",
    "print latitude, longitude"
   ]
  },
  {
   "cell_type": "code",
   "execution_count": 26,
   "metadata": {
    "collapsed": false
   },
   "outputs": [
    {
     "data": {
      "text/html": [
       "<div>\n",
       "<table border=\"1\" class=\"dataframe\">\n",
       "  <thead>\n",
       "    <tr style=\"text-align: right;\">\n",
       "      <th></th>\n",
       "      <th>City</th>\n",
       "      <th>Latitude</th>\n",
       "      <th>Longitude</th>\n",
       "    </tr>\n",
       "  </thead>\n",
       "  <tbody>\n",
       "    <tr>\n",
       "      <th>0</th>\n",
       "      <td>Seattle</td>\n",
       "      <td>47.611504</td>\n",
       "      <td>-122.344182</td>\n",
       "    </tr>\n",
       "    <tr>\n",
       "      <th>1</th>\n",
       "      <td>Seattle</td>\n",
       "      <td>47.613337</td>\n",
       "      <td>-122.336425</td>\n",
       "    </tr>\n",
       "    <tr>\n",
       "      <th>2</th>\n",
       "      <td>Seattle</td>\n",
       "      <td>47.681762</td>\n",
       "      <td>-122.350394</td>\n",
       "    </tr>\n",
       "    <tr>\n",
       "      <th>3</th>\n",
       "      <td>Seattle</td>\n",
       "      <td>47.707731</td>\n",
       "      <td>-122.356800</td>\n",
       "    </tr>\n",
       "    <tr>\n",
       "      <th>4</th>\n",
       "      <td>Seattle</td>\n",
       "      <td>47.688085</td>\n",
       "      <td>-122.370461</td>\n",
       "    </tr>\n",
       "  </tbody>\n",
       "</table>\n",
       "</div>"
      ],
      "text/plain": [
       "      City   Latitude   Longitude\n",
       "0  Seattle  47.611504 -122.344182\n",
       "1  Seattle  47.613337 -122.336425\n",
       "2  Seattle  47.681762 -122.350394\n",
       "3  Seattle  47.707731 -122.356800\n",
       "4  Seattle  47.688085 -122.370461"
      ]
     },
     "execution_count": 26,
     "metadata": {},
     "output_type": "execute_result"
    }
   ],
   "source": [
    "df = pd.read_csv('../data/sea_trees_raw.csv')\n",
    "df.head()"
   ]
  },
  {
   "cell_type": "code",
   "execution_count": null,
   "metadata": {
    "collapsed": true
   },
   "outputs": [],
   "source": []
  }
 ],
 "metadata": {
  "kernelspec": {
   "display_name": "Python 2",
   "language": "python",
   "name": "python2"
  },
  "language_info": {
   "codemirror_mode": {
    "name": "ipython",
    "version": 2
   },
   "file_extension": ".py",
   "mimetype": "text/x-python",
   "name": "python",
   "nbconvert_exporter": "python",
   "pygments_lexer": "ipython2",
   "version": "2.7.11"
  }
 },
 "nbformat": 4,
 "nbformat_minor": 0
}
