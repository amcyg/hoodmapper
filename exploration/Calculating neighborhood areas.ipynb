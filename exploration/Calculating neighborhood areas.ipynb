{
 "cells": [
  {
   "cell_type": "code",
   "execution_count": 68,
   "metadata": {
    "collapsed": true
   },
   "outputs": [],
   "source": [
    "import pandas as pd\n",
    "import numpy as np\n",
    "import shapefile\n",
    "from shapely.geometry import Polygon"
   ]
  },
  {
   "cell_type": "code",
   "execution_count": 2,
   "metadata": {
    "collapsed": true
   },
   "outputs": [],
   "source": [
    "sf = shapefile.Reader('../downloads/sf_neighborhoods/geo_export_197f44fb-6cc0-472b-81f7-347deefb57df')\n",
    "sea = shapefile.Reader('../downloads/seattle_neighborhoods/Neighborhoods')"
   ]
  },
  {
   "cell_type": "code",
   "execution_count": 4,
   "metadata": {
    "collapsed": true
   },
   "outputs": [],
   "source": [
    "sf_shapes = sf.shapes()"
   ]
  },
  {
   "cell_type": "code",
   "execution_count": 70,
   "metadata": {
    "collapsed": false
   },
   "outputs": [],
   "source": [
    "hood_areas_by_city = {}\n",
    "\n",
    "def record_to_neighborhood(city, record):\n",
    "    if city == 'Seattle':\n",
    "        if record[5] != 'OOO' and record[5][1] != ' ':\n",
    "            return record[5]\n",
    "        else:\n",
    "            return None\n",
    "    elif city == 'San Francisco':\n",
    "        return record[2]\n",
    "    else:\n",
    "        raise Exception(\"unsupported city: \" + city)\n",
    "        \n",
    "def calculate_area_from_coords(points):\n",
    "    \"\"\"\n",
    "    Calculate hood area by converting to radians and multiplying by the square of Earth's radius.\n",
    "    Assuming a perfect sphere, Earth's radius is 6370 km.\n",
    "    This isn't the most precise, but especially since we're mostly interested in relative measurements, it'll do.\n",
    "    Did a quick sanity check using neighborhood measurements via Google searches, and they were close.\n",
    "    \"\"\" \n",
    "    points = np.array(points)\n",
    "    poly = Polygon(np.radians(points))\n",
    "    return poly.area * 6370**2\n",
    "\n",
    "\n",
    "# Iterate through shapefiles to extract neighborhood names and areas\n",
    "for city, polyfile in (('San Francisco', sf), ('Seattle', sea)):\n",
    "    for record, shape in zip(polyfile.records(), polyfile.shapes()):\n",
    "        name = record_to_neighborhood(city, record)\n",
    "        if name:\n",
    "            if city not in hood_areas_by_city:\n",
    "                hood_areas_by_city[city] = []\n",
    "            \n",
    "            points = [list(reversed(p)) for p in shape.points]\n",
    "            area = calculate_area_from_coords(points)\n",
    "            hood_areas_by_city[city].append([name, area])"
   ]
  },
  {
   "cell_type": "code",
   "execution_count": 73,
   "metadata": {
    "collapsed": false
   },
   "outputs": [
    {
     "data": {
      "text/html": [
       "<div>\n",
       "<table border=\"1\" class=\"dataframe\">\n",
       "  <thead>\n",
       "    <tr style=\"text-align: right;\">\n",
       "      <th></th>\n",
       "      <th>Neighborhood</th>\n",
       "      <th>Area (sq km)</th>\n",
       "    </tr>\n",
       "  </thead>\n",
       "  <tbody>\n",
       "    <tr>\n",
       "      <th>0</th>\n",
       "      <td>Loyal Heights</td>\n",
       "      <td>2.933042</td>\n",
       "    </tr>\n",
       "    <tr>\n",
       "      <th>1</th>\n",
       "      <td>Adams</td>\n",
       "      <td>3.085047</td>\n",
       "    </tr>\n",
       "    <tr>\n",
       "      <th>2</th>\n",
       "      <td>Whittier Heights</td>\n",
       "      <td>1.952875</td>\n",
       "    </tr>\n",
       "    <tr>\n",
       "      <th>3</th>\n",
       "      <td>West Woodland</td>\n",
       "      <td>3.053022</td>\n",
       "    </tr>\n",
       "    <tr>\n",
       "      <th>4</th>\n",
       "      <td>Phinney Ridge</td>\n",
       "      <td>4.418331</td>\n",
       "    </tr>\n",
       "  </tbody>\n",
       "</table>\n",
       "</div>"
      ],
      "text/plain": [
       "       Neighborhood  Area (sq km)\n",
       "0     Loyal Heights      2.933042\n",
       "1             Adams      3.085047\n",
       "2  Whittier Heights      1.952875\n",
       "3     West Woodland      3.053022\n",
       "4     Phinney Ridge      4.418331"
      ]
     },
     "execution_count": 73,
     "metadata": {},
     "output_type": "execute_result"
    }
   ],
   "source": [
    "sf_hood_areas = pd.DataFrame(hood_areas_by_city['San Francisco'])\n",
    "sf_hood_areas.columns = ['Neighborhood', 'Area (sq km)']\n",
    "sea_hood_areas = pd.DataFrame(hood_areas_by_city['Seattle'])\n",
    "sea_hood_areas.columns = ['Neighborhood', 'Area (sq km)']\n",
    "sea_hood_areas.head()"
   ]
  },
  {
   "cell_type": "code",
   "execution_count": 57,
   "metadata": {
    "collapsed": false
   },
   "outputs": [
    {
     "data": {
      "text/plain": [
       "0.00011132456220592399"
      ]
     },
     "execution_count": 57,
     "metadata": {},
     "output_type": "execute_result"
    }
   ],
   "source": [
    "financial_district = hoods_by_city['San Francisco'][17][1]\n",
    "financial_district.area"
   ]
  },
  {
   "cell_type": "code",
   "execution_count": 45,
   "metadata": {
    "collapsed": false
   },
   "outputs": [],
   "source": [
    "fd_points = financial_district.exterior.coords"
   ]
  },
  {
   "cell_type": "code",
   "execution_count": 58,
   "metadata": {
    "collapsed": false
   },
   "outputs": [
    {
     "data": {
      "text/plain": [
       "1.3760195231001835"
      ]
     },
     "execution_count": 58,
     "metadata": {},
     "output_type": "execute_result"
    }
   ],
   "source": [
    "fidi = sf_shapes[17].points\n",
    "fidi = np.array(fidi)\n",
    "fidi_poly = Polygon(np.radians(fidi))\n",
    "fidi_poly.area * 6370**2"
   ]
  },
  {
   "cell_type": "code",
   "execution_count": 48,
   "metadata": {
    "collapsed": false
   },
   "outputs": [
    {
     "data": {
      "text/plain": [
       "(array('d', [37.7957159318478, 37.79571587521785, 37.79534525744691, 37.794952693174395, 37.79468342176938, 37.79447971814928, 37.79325634992732, 37.79309708320577, 37.792405521440855, 37.79101664894328, 37.78926432244501, 37.78872115229309, 37.78764184853344, 37.78796309163017, 37.78842726155285, 37.78889442951887, 37.78880666340405, 37.78869399202777, 37.788499479753874, 37.78842968302915, 37.79212007191527, 37.79772322245175, 37.798540648672464, 37.79919831797124, 37.79921303976896, 37.79883180617899, 37.79885584078806, 37.79882204757367, 37.79885045132736, 37.79884661085972, 37.79883310483591, 37.79933397921428, 37.79940103709016, 37.7994596521181, 37.79946247143917, 37.799625711074924, 37.800049529854206, 37.800063722876935, 37.800110075620914, 37.800143897245185, 37.800181251223826, 37.80015740961311, 37.8000736529846, 37.79999410905789, 37.799956040986764, 37.79998640252755, 37.79998397321377, 37.79999816659603, 37.79944222953126, 37.79940759284774, 37.799348967163674, 37.79928686393135, 37.799284100527736, 37.799011206524305, 37.79877765157938, 37.7987641173722, 37.798745667078705, 37.79873314393541, 37.79870908156832, 37.79867526014465, 37.79864979715471, 37.798568648615394, 37.798586310791585, 37.798472027096665, 37.79844444933919, 37.797868903195294, 37.7978833455546, 37.79791620994037, 37.79796475148333, 37.7979796114947, 37.79894255643319, 37.79893871521063, 37.798661220148894, 37.79864688810291, 37.798630219041485, 37.797548480041925, 37.797480624558126, 37.79739261095859, 37.7973943072738, 37.79749461788455, 37.79734090938104, 37.79723636865898, 37.79716524810145, 37.79712121340966, 37.79712357679388, 37.79722731931313, 37.797258339665085, 37.79825150681753, 37.79824835225037, 37.79797780309873, 37.79795935263729, 37.79794680237182, 37.79789176010063, 37.79766428182768, 37.79759438740126, 37.79749219455736, 37.79734644187649, 37.79729324444158, 37.796890939509986, 37.79687542928658, 37.79671169944261, 37.796585169835666, 37.79681894146808, 37.797258217633214, 37.797293384898225, 37.79746702359522, 37.797207484764265, 37.797233236248154, 37.79686317678662, 37.79664860379443, 37.7966876918815, 37.79657475106383, 37.79650728880272, 37.79619800258262, 37.79623695153392, 37.79609820369939, 37.79605702860032, 37.79583114650908, 37.795862405297974, 37.7957159318478]),\n",
       " array('d', [-122.3930682976103, -122.3930683318351, -122.39372794286757, -122.39446793287455, -122.39481014587457, -122.39474757918464, -122.39630200435103, -122.39650448663637, -122.3973834459552, -122.39914859819987, -122.40137549123702, -122.40206572953127, -122.40343080112505, -122.40349177526393, -122.40357987959881, -122.40366067694421, -122.40434399116884, -122.40522117343352, -122.40677114407063, -122.40687769375117, -122.40762472531307, -122.40876046653038, -122.40237202140196, -122.39722734045914, -122.39708059064549, -122.39674544338405, -122.39670278486399, -122.39666903510742, -122.39661091030605, -122.39659350356115, -122.39657931147697, -122.39570934759135, -122.39568163453947, -122.39558100783896, -122.39549107299, -122.39520444844491, -122.3944709738312, -122.39448518328732, -122.39446386378322, -122.39449588346858, -122.3944362543891, -122.39433871475508, -122.39425176311619, -122.39424454089664, -122.39430588250174, -122.39433954456938, -122.39440525703203, -122.39441946647207, -122.39538324065325, -122.39544466883194, -122.39546048096688, -122.39556448012749, -122.39565095461877, -122.39613729091361, -122.39652596823578, -122.39651350623117, -122.39650784264204, -122.39651790785092, -122.39656229642209, -122.39653027640536, -122.39657635993258, -122.39649812839951, -122.39646742346345, -122.39635719024011, -122.39640668121824, -122.39589868524621, -122.3957692391203, -122.39564718673046, -122.39553245836404, -122.39550514387214, -122.39382826389978, -122.39381085682533, -122.39355799408312, -122.39355243582311, -122.39356412699064, -122.3954543278837, -122.39548894350439, -122.39541053916372, -122.39530500058967, -122.39513101372484, -122.39499554587641, -122.3951763479838, -122.39520049551192, -122.3951630234597, -122.39501596199693, -122.39484206341068, -122.39487747201514, -122.39319964025522, -122.39318225088573, -122.39292437725244, -122.39291871417208, -122.39293051037697, -122.393022573504, -122.39341833289151, -122.39349443940823, -122.39361472362727, -122.39379620760006, -122.39385889208639, -122.394535774654, -122.39451807028553, -122.39479255721047, -122.39467509357432, -122.39427258088027, -122.39351702164637, -122.39355080471903, -122.39312944279301, -122.39346899488592, -122.3934904217501, -122.39412658816065, -122.39393245318125, -122.39385037011535, -122.39374190877241, -122.39388038538065, -122.39359729599933, -122.3935238637249, -122.39339743703208, -122.39348119716607, -122.39326427778417, -122.393199303596, -122.3930682976103]))"
      ]
     },
     "execution_count": 48,
     "metadata": {},
     "output_type": "execute_result"
    }
   ],
   "source": [
    "fd_points.xy"
   ]
  },
  {
   "cell_type": "code",
   "execution_count": null,
   "metadata": {
    "collapsed": true
   },
   "outputs": [],
   "source": []
  }
 ],
 "metadata": {
  "kernelspec": {
   "display_name": "Python 2",
   "language": "python",
   "name": "python2"
  },
  "language_info": {
   "codemirror_mode": {
    "name": "ipython",
    "version": 2
   },
   "file_extension": ".py",
   "mimetype": "text/x-python",
   "name": "python",
   "nbconvert_exporter": "python",
   "pygments_lexer": "ipython2",
   "version": "2.7.11"
  }
 },
 "nbformat": 4,
 "nbformat_minor": 0
}
