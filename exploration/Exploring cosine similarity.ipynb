{
 "cells": [
  {
   "cell_type": "code",
   "execution_count": 1,
   "metadata": {
    "collapsed": true
   },
   "outputs": [],
   "source": [
    "import pandas as pd\n",
    "import numpy as np\n",
    "from sklearn.metrics.pairwise import cosine_similarity\n",
    "pd.set_option('display.max_columns', None)"
   ]
  },
  {
   "cell_type": "markdown",
   "metadata": {},
   "source": [
    "<h3>Question: does separating features into 'factors' change the cosine similarity?</h3>"
   ]
  },
  {
   "cell_type": "code",
   "execution_count": 4,
   "metadata": {
    "collapsed": true
   },
   "outputs": [],
   "source": [
    "# Import dummy data\n",
    "events = pd.read_csv('../data/TEST_factor1.csv')\n",
    "stroll = pd.read_csv('../data/TEST_factor2.csv')\n",
    "commute = pd.read_csv('../data/TEST_factor3.csv')"
   ]
  },
  {
   "cell_type": "markdown",
   "metadata": {},
   "source": [
    "<h3>For instance, our Eventbrite data will have MANY more features than the stroll quality and the commute quality data sets.\n",
    "<br>\n",
    "<ul>\n",
    "<li>Eventbrite: 25+ features (all categories and subcategories of events)</li>\n",
    "<li>Stroll quality: 3 features (tree density, walk score, transit score)</li>\n",
    "<li>Commute quality: 4 features (walking, biking, transit, and driving times in minutes)</li>\n",
    "</ul>\n",
    "<br>\n",
    "If we simply merge all features together, won't the Eventbrite features overwhelm the features in the other two factors? If so, how can we weigh the features so that they are in essence separated by 'factor' (event, stroll, and commute quality). "
   ]
  },
  {
   "cell_type": "code",
   "execution_count": 7,
   "metadata": {
    "collapsed": false
   },
   "outputs": [
    {
     "data": {
      "text/html": [
       "<div>\n",
       "<table border=\"1\" class=\"dataframe\">\n",
       "  <thead>\n",
       "    <tr style=\"text-align: right;\">\n",
       "      <th></th>\n",
       "      <th>hood</th>\n",
       "      <th>bicycling</th>\n",
       "      <th>driving</th>\n",
       "      <th>transit</th>\n",
       "      <th>walking</th>\n",
       "    </tr>\n",
       "  </thead>\n",
       "  <tbody>\n",
       "    <tr>\n",
       "      <th>0</th>\n",
       "      <td>soma</td>\n",
       "      <td>5</td>\n",
       "      <td>5</td>\n",
       "      <td>10</td>\n",
       "      <td>15</td>\n",
       "    </tr>\n",
       "    <tr>\n",
       "      <th>1</th>\n",
       "      <td>fremont</td>\n",
       "      <td>15</td>\n",
       "      <td>20</td>\n",
       "      <td>20</td>\n",
       "      <td>35</td>\n",
       "    </tr>\n",
       "  </tbody>\n",
       "</table>\n",
       "</div>"
      ],
      "text/plain": [
       "      hood   bicycling   driving   transit   walking\n",
       "0     soma           5         5        10        15\n",
       "1  fremont          15        20        20        35"
      ]
     },
     "execution_count": 7,
     "metadata": {},
     "output_type": "execute_result"
    }
   ],
   "source": [
    "commute.head()"
   ]
  },
  {
   "cell_type": "code",
   "execution_count": 36,
   "metadata": {
    "collapsed": false
   },
   "outputs": [
    {
     "data": {
      "text/html": [
       "<div>\n",
       "<table border=\"1\" class=\"dataframe\">\n",
       "  <thead>\n",
       "    <tr style=\"text-align: right;\">\n",
       "      <th></th>\n",
       "      <th>hood</th>\n",
       "      <th>trees</th>\n",
       "      <th>walkscore</th>\n",
       "      <th>transitscore</th>\n",
       "    </tr>\n",
       "  </thead>\n",
       "  <tbody>\n",
       "    <tr>\n",
       "      <th>0</th>\n",
       "      <td>soma</td>\n",
       "      <td>38</td>\n",
       "      <td>99</td>\n",
       "      <td>98</td>\n",
       "    </tr>\n",
       "    <tr>\n",
       "      <th>1</th>\n",
       "      <td>fremont</td>\n",
       "      <td>45</td>\n",
       "      <td>83</td>\n",
       "      <td>89</td>\n",
       "    </tr>\n",
       "  </tbody>\n",
       "</table>\n",
       "</div>"
      ],
      "text/plain": [
       "      hood   trees   walkscore   transitscore\n",
       "0     soma      38          99             98\n",
       "1  fremont      45          83             89"
      ]
     },
     "execution_count": 36,
     "metadata": {},
     "output_type": "execute_result"
    }
   ],
   "source": [
    "stroll.head()"
   ]
  },
  {
   "cell_type": "code",
   "execution_count": 37,
   "metadata": {
    "collapsed": false
   },
   "outputs": [
    {
     "data": {
      "text/html": [
       "<div>\n",
       "<table border=\"1\" class=\"dataframe\">\n",
       "  <thead>\n",
       "    <tr style=\"text-align: right;\">\n",
       "      <th></th>\n",
       "      <th>hood</th>\n",
       "      <th>event1</th>\n",
       "      <th>event2</th>\n",
       "      <th>event3</th>\n",
       "      <th>event4</th>\n",
       "      <th>event5</th>\n",
       "      <th>event6</th>\n",
       "      <th>event7</th>\n",
       "      <th>event8</th>\n",
       "      <th>event9</th>\n",
       "      <th>event10</th>\n",
       "      <th>event11</th>\n",
       "      <th>event12</th>\n",
       "      <th>event13</th>\n",
       "      <th>event14</th>\n",
       "      <th>event15</th>\n",
       "      <th>event16</th>\n",
       "      <th>event17</th>\n",
       "      <th>event18</th>\n",
       "      <th>event19</th>\n",
       "      <th>event20</th>\n",
       "      <th>event21</th>\n",
       "      <th>event22</th>\n",
       "      <th>event23</th>\n",
       "      <th>event24</th>\n",
       "      <th>event25</th>\n",
       "    </tr>\n",
       "  </thead>\n",
       "  <tbody>\n",
       "    <tr>\n",
       "      <th>0</th>\n",
       "      <td>soma</td>\n",
       "      <td>0</td>\n",
       "      <td>0</td>\n",
       "      <td>0</td>\n",
       "      <td>20</td>\n",
       "      <td>4</td>\n",
       "      <td>0</td>\n",
       "      <td>0</td>\n",
       "      <td>0</td>\n",
       "      <td>0</td>\n",
       "      <td>1</td>\n",
       "      <td>0</td>\n",
       "      <td>1</td>\n",
       "      <td>0</td>\n",
       "      <td>0</td>\n",
       "      <td>1</td>\n",
       "      <td>0</td>\n",
       "      <td>0</td>\n",
       "      <td>1</td>\n",
       "      <td>0</td>\n",
       "      <td>1</td>\n",
       "      <td>0</td>\n",
       "      <td>0</td>\n",
       "      <td>4</td>\n",
       "      <td>8</td>\n",
       "      <td>1</td>\n",
       "    </tr>\n",
       "    <tr>\n",
       "      <th>1</th>\n",
       "      <td>fremont</td>\n",
       "      <td>1</td>\n",
       "      <td>0</td>\n",
       "      <td>0</td>\n",
       "      <td>5</td>\n",
       "      <td>0</td>\n",
       "      <td>2</td>\n",
       "      <td>0</td>\n",
       "      <td>1</td>\n",
       "      <td>2</td>\n",
       "      <td>6</td>\n",
       "      <td>0</td>\n",
       "      <td>0</td>\n",
       "      <td>1</td>\n",
       "      <td>0</td>\n",
       "      <td>1</td>\n",
       "      <td>2</td>\n",
       "      <td>8</td>\n",
       "      <td>0</td>\n",
       "      <td>0</td>\n",
       "      <td>2</td>\n",
       "      <td>0</td>\n",
       "      <td>0</td>\n",
       "      <td>1</td>\n",
       "      <td>2</td>\n",
       "      <td>0</td>\n",
       "    </tr>\n",
       "  </tbody>\n",
       "</table>\n",
       "</div>"
      ],
      "text/plain": [
       "      hood  event1   event2   event3   event4   event5   event6   event7  \\\n",
       "0     soma       0        0        0       20        4        0        0   \n",
       "1  fremont       1        0        0        5        0        2        0   \n",
       "\n",
       "    event8   event9   event10   event11   event12   event13   event14  \\\n",
       "0        0        0         1         0         1         0         0   \n",
       "1        1        2         6         0         0         1         0   \n",
       "\n",
       "    event15   event16   event17   event18   event19   event20   event21  \\\n",
       "0         1         0         0         1         0         1         0   \n",
       "1         1         2         8         0         0         2         0   \n",
       "\n",
       "    event22   event23   event24   event25  \n",
       "0         0         4         8         1  \n",
       "1         0         1         2         0  "
      ]
     },
     "execution_count": 37,
     "metadata": {},
     "output_type": "execute_result"
    }
   ],
   "source": [
    "events.head()"
   ]
  },
  {
   "cell_type": "markdown",
   "metadata": {},
   "source": [
    "<h3>First, let's try merging all data sets together to see the overall cosine similarity.\n",
    "<br>Cosine similarity: 0.96259804058040244</h3>"
   ]
  },
  {
   "cell_type": "code",
   "execution_count": 16,
   "metadata": {
    "collapsed": true
   },
   "outputs": [],
   "source": [
    "merged = events.merge(stroll, on='hood', how='outer')\n",
    "merged = merged.merge(commute, on='hood', how='outer')"
   ]
  },
  {
   "cell_type": "code",
   "execution_count": 17,
   "metadata": {
    "collapsed": false
   },
   "outputs": [],
   "source": [
    "soma = merged\n",
    "soma = soma[soma['hood'] == 'soma']\n",
    "fremont = merged\n",
    "fremont = fremont[fremont['hood'] == 'fremont']"
   ]
  },
  {
   "cell_type": "code",
   "execution_count": 19,
   "metadata": {
    "collapsed": false
   },
   "outputs": [
    {
     "data": {
      "text/html": [
       "<div>\n",
       "<table border=\"1\" class=\"dataframe\">\n",
       "  <thead>\n",
       "    <tr style=\"text-align: right;\">\n",
       "      <th></th>\n",
       "      <th>hood</th>\n",
       "      <th>event1</th>\n",
       "      <th>event2</th>\n",
       "      <th>event3</th>\n",
       "      <th>event4</th>\n",
       "      <th>event5</th>\n",
       "      <th>event6</th>\n",
       "      <th>event7</th>\n",
       "      <th>event8</th>\n",
       "      <th>event9</th>\n",
       "      <th>event10</th>\n",
       "      <th>event11</th>\n",
       "      <th>event12</th>\n",
       "      <th>event13</th>\n",
       "      <th>event14</th>\n",
       "      <th>event15</th>\n",
       "      <th>event16</th>\n",
       "      <th>event17</th>\n",
       "      <th>event18</th>\n",
       "      <th>event19</th>\n",
       "      <th>event20</th>\n",
       "      <th>event21</th>\n",
       "      <th>event22</th>\n",
       "      <th>event23</th>\n",
       "      <th>event24</th>\n",
       "      <th>event25</th>\n",
       "      <th>trees</th>\n",
       "      <th>walkscore</th>\n",
       "      <th>transitscore</th>\n",
       "      <th>bicycling</th>\n",
       "      <th>driving</th>\n",
       "      <th>transit</th>\n",
       "      <th>walking</th>\n",
       "    </tr>\n",
       "  </thead>\n",
       "  <tbody>\n",
       "    <tr>\n",
       "      <th>1</th>\n",
       "      <td>fremont</td>\n",
       "      <td>1</td>\n",
       "      <td>0</td>\n",
       "      <td>0</td>\n",
       "      <td>5</td>\n",
       "      <td>0</td>\n",
       "      <td>2</td>\n",
       "      <td>0</td>\n",
       "      <td>1</td>\n",
       "      <td>2</td>\n",
       "      <td>6</td>\n",
       "      <td>0</td>\n",
       "      <td>0</td>\n",
       "      <td>1</td>\n",
       "      <td>0</td>\n",
       "      <td>1</td>\n",
       "      <td>2</td>\n",
       "      <td>8</td>\n",
       "      <td>0</td>\n",
       "      <td>0</td>\n",
       "      <td>2</td>\n",
       "      <td>0</td>\n",
       "      <td>0</td>\n",
       "      <td>1</td>\n",
       "      <td>2</td>\n",
       "      <td>0</td>\n",
       "      <td>45</td>\n",
       "      <td>83</td>\n",
       "      <td>89</td>\n",
       "      <td>15</td>\n",
       "      <td>20</td>\n",
       "      <td>20</td>\n",
       "      <td>35</td>\n",
       "    </tr>\n",
       "  </tbody>\n",
       "</table>\n",
       "</div>"
      ],
      "text/plain": [
       "      hood  event1   event2   event3   event4   event5   event6   event7  \\\n",
       "1  fremont       1        0        0        5        0        2        0   \n",
       "\n",
       "    event8   event9   event10   event11   event12   event13   event14  \\\n",
       "1        1        2         6         0         0         1         0   \n",
       "\n",
       "    event15   event16   event17   event18   event19   event20   event21  \\\n",
       "1         1         2         8         0         0         2         0   \n",
       "\n",
       "    event22   event23   event24   event25   trees   walkscore   transitscore  \\\n",
       "1         0         1         2         0      45          83             89   \n",
       "\n",
       "    bicycling   driving   transit   walking  \n",
       "1          15        20        20        35  "
      ]
     },
     "execution_count": 19,
     "metadata": {},
     "output_type": "execute_result"
    }
   ],
   "source": [
    "fremont.head()"
   ]
  },
  {
   "cell_type": "code",
   "execution_count": 20,
   "metadata": {
    "collapsed": true
   },
   "outputs": [],
   "source": [
    "def convert_hood_to_array(input_hood):\n",
    "    # convert to numpy array in format needed for cosine similarity comparison\n",
    "    input_hood = np.array(input_hood)[0][1:]\n",
    "    input_hood = input_hood.reshape(1, -1)\n",
    "    return input_hood\n",
    "\n",
    "def compare_hood_to_all_city_hoods(input_hood, hood_city_df, comparison_city_df, input_dict):\n",
    "    hood1 = hood_city_df.loc[hood_city_df['hood'] == input_hood]\n",
    "    hood1 = convert_hood_to_array(hood1)\n",
    "    for hood in comparison_city_df['hood']:\n",
    "        hood2 = comparison_city_df.loc[comparison_city_df['hood'] == hood]\n",
    "        hood2 = convert_hood_to_array(hood2)\n",
    "        if input_hood not in input_dict:\n",
    "            input_dict[input_hood] = {}\n",
    "            input_dict[input_hood][hood] = cosine_similarity(hood1, hood2)[0][0]\n",
    "        else:\n",
    "            input_dict[input_hood][hood] = cosine_similarity(hood1, hood2)[0][0]\n",
    "    return input_dict\n",
    "\n",
    "# compare all Seattle neighborhoods with all SF neighborhoods\n",
    "# note: one optimization for this will be to, instead of a dictionary of dictionaries,\n",
    "# have a dictionary of tuples (hood_name, cosine_similarity), sorted by c_s\n",
    "comparisons = {}\n",
    "for hood in soma['hood']:\n",
    "    compare_hood_to_all_city_hoods(hood, soma, fremont, comparisons)\n",
    "for hood in fremont['hood']:\n",
    "    compare_hood_to_all_city_hoods(hood, fremont, soma, comparisons)"
   ]
  },
  {
   "cell_type": "code",
   "execution_count": 21,
   "metadata": {
    "collapsed": false
   },
   "outputs": [
    {
     "data": {
      "text/plain": [
       "{'fremont': {'soma': 0.96259804058040244},\n",
       " 'soma': {'fremont': 0.96259804058040244}}"
      ]
     },
     "execution_count": 21,
     "metadata": {},
     "output_type": "execute_result"
    }
   ],
   "source": [
    "comparisons"
   ]
  },
  {
   "cell_type": "markdown",
   "metadata": {},
   "source": [
    "<h3>Now, let's get the cosine similarities for each factor. \n",
    "<br><br>Originally, I thought we could make each factor's cosine similarity into one feature, then re-do the cosine similarity calculation. Except, oops, then the similarities will be 1!\n",
    "<br><br>Is there a better way to 'weigh' the features by factor? \n",
    "<ul>\n",
    "<li>Multiplying the cosine similarities together?</li>\n",
    "<li>Using Euclidian distance somehow?</li>\n",
    "<li>Normalizing the features somehow before merging them for one single cosine similarity calculation?</li>\n",
    "</ul>\n",
    "</h3>"
   ]
  },
  {
   "cell_type": "code",
   "execution_count": 22,
   "metadata": {
    "collapsed": false
   },
   "outputs": [
    {
     "data": {
      "text/html": [
       "<div>\n",
       "<table border=\"1\" class=\"dataframe\">\n",
       "  <thead>\n",
       "    <tr style=\"text-align: right;\">\n",
       "      <th></th>\n",
       "      <th>hood</th>\n",
       "      <th>event1</th>\n",
       "      <th>event2</th>\n",
       "      <th>event3</th>\n",
       "      <th>event4</th>\n",
       "      <th>event5</th>\n",
       "      <th>event6</th>\n",
       "      <th>event7</th>\n",
       "      <th>event8</th>\n",
       "      <th>event9</th>\n",
       "      <th>event10</th>\n",
       "      <th>event11</th>\n",
       "      <th>event12</th>\n",
       "      <th>event13</th>\n",
       "      <th>event14</th>\n",
       "      <th>event15</th>\n",
       "      <th>event16</th>\n",
       "      <th>event17</th>\n",
       "      <th>event18</th>\n",
       "      <th>event19</th>\n",
       "      <th>event20</th>\n",
       "      <th>event21</th>\n",
       "      <th>event22</th>\n",
       "      <th>event23</th>\n",
       "      <th>event24</th>\n",
       "      <th>event25</th>\n",
       "    </tr>\n",
       "  </thead>\n",
       "  <tbody>\n",
       "    <tr>\n",
       "      <th>0</th>\n",
       "      <td>soma</td>\n",
       "      <td>0</td>\n",
       "      <td>0</td>\n",
       "      <td>0</td>\n",
       "      <td>20</td>\n",
       "      <td>4</td>\n",
       "      <td>0</td>\n",
       "      <td>0</td>\n",
       "      <td>0</td>\n",
       "      <td>0</td>\n",
       "      <td>1</td>\n",
       "      <td>0</td>\n",
       "      <td>1</td>\n",
       "      <td>0</td>\n",
       "      <td>0</td>\n",
       "      <td>1</td>\n",
       "      <td>0</td>\n",
       "      <td>0</td>\n",
       "      <td>1</td>\n",
       "      <td>0</td>\n",
       "      <td>1</td>\n",
       "      <td>0</td>\n",
       "      <td>0</td>\n",
       "      <td>4</td>\n",
       "      <td>8</td>\n",
       "      <td>1</td>\n",
       "    </tr>\n",
       "    <tr>\n",
       "      <th>1</th>\n",
       "      <td>fremont</td>\n",
       "      <td>1</td>\n",
       "      <td>0</td>\n",
       "      <td>0</td>\n",
       "      <td>5</td>\n",
       "      <td>0</td>\n",
       "      <td>2</td>\n",
       "      <td>0</td>\n",
       "      <td>1</td>\n",
       "      <td>2</td>\n",
       "      <td>6</td>\n",
       "      <td>0</td>\n",
       "      <td>0</td>\n",
       "      <td>1</td>\n",
       "      <td>0</td>\n",
       "      <td>1</td>\n",
       "      <td>2</td>\n",
       "      <td>8</td>\n",
       "      <td>0</td>\n",
       "      <td>0</td>\n",
       "      <td>2</td>\n",
       "      <td>0</td>\n",
       "      <td>0</td>\n",
       "      <td>1</td>\n",
       "      <td>2</td>\n",
       "      <td>0</td>\n",
       "    </tr>\n",
       "  </tbody>\n",
       "</table>\n",
       "</div>"
      ],
      "text/plain": [
       "      hood  event1   event2   event3   event4   event5   event6   event7  \\\n",
       "0     soma       0        0        0       20        4        0        0   \n",
       "1  fremont       1        0        0        5        0        2        0   \n",
       "\n",
       "    event8   event9   event10   event11   event12   event13   event14  \\\n",
       "0        0        0         1         0         1         0         0   \n",
       "1        1        2         6         0         0         1         0   \n",
       "\n",
       "    event15   event16   event17   event18   event19   event20   event21  \\\n",
       "0         1         0         0         1         0         1         0   \n",
       "1         1         2         8         0         0         2         0   \n",
       "\n",
       "    event22   event23   event24   event25  \n",
       "0         0         4         8         1  \n",
       "1         0         1         2         0  "
      ]
     },
     "execution_count": 22,
     "metadata": {},
     "output_type": "execute_result"
    }
   ],
   "source": [
    "events.head()"
   ]
  },
  {
   "cell_type": "code",
   "execution_count": 23,
   "metadata": {
    "collapsed": true
   },
   "outputs": [],
   "source": [
    "events_soma = events\n",
    "events_soma = events_soma[events_soma['hood'] == 'soma']\n",
    "events_fremont = events\n",
    "events_fremont = events_fremont[events_fremont['hood'] == 'fremont']\n",
    "\n",
    "stroll_soma = stroll\n",
    "stroll_soma = stroll_soma[stroll_soma['hood'] == 'soma']\n",
    "stroll_fremont = stroll\n",
    "stroll_fremont = stroll_fremont[stroll_fremont['hood'] == 'fremont']\n",
    "\n",
    "commute_soma = commute\n",
    "commute_soma = commute_soma[commute_soma['hood'] == 'soma']\n",
    "commute_fremont = commute\n",
    "commute_fremont = commute_fremont[commute_fremont['hood'] == 'fremont']"
   ]
  },
  {
   "cell_type": "code",
   "execution_count": 25,
   "metadata": {
    "collapsed": false
   },
   "outputs": [],
   "source": [
    "comparisons_events = {}\n",
    "for hood in events_soma['hood']:\n",
    "    compare_hood_to_all_city_hoods(hood, events_soma, events_fremont, comparisons_events)\n",
    "\n",
    "comparisons_stroll = {}\n",
    "for hood in stroll_soma['hood']:\n",
    "    compare_hood_to_all_city_hoods(hood, stroll_soma, stroll_fremont, comparisons_stroll)\n",
    "\n",
    "comparisons_commute = {}\n",
    "for hood in commute_soma['hood']:\n",
    "    compare_hood_to_all_city_hoods(hood, commute_soma, commute_fremont, comparisons_commute)\n"
   ]
  },
  {
   "cell_type": "code",
   "execution_count": 28,
   "metadata": {
    "collapsed": false
   },
   "outputs": [
    {
     "name": "stdout",
     "output_type": "stream",
     "text": [
      "SOMA/Fremont events: 0.470102133516\n",
      "SOMA/Fremont stroll:  0.995420026523\n",
      "SOMA/Fremont commute:  0.979795897113\n"
     ]
    }
   ],
   "source": [
    "print \"SOMA/Fremont events:\", comparisons_events['soma']['fremont']\n",
    "print \"SOMA/Fremont stroll: \", comparisons_stroll['soma']['fremont']\n",
    "print \"SOMA/Fremont commute: \", comparisons_commute['soma']['fremont']"
   ]
  },
  {
   "cell_type": "code",
   "execution_count": 30,
   "metadata": {
    "collapsed": false
   },
   "outputs": [],
   "source": [
    "lst = [comparisons_events['soma']['fremont'], comparisons_stroll['soma']['fremont'], comparisons_commute['soma']['fremont']]"
   ]
  },
  {
   "cell_type": "code",
   "execution_count": 31,
   "metadata": {
    "collapsed": false
   },
   "outputs": [
    {
     "data": {
      "text/plain": [
       "[0.47010213351595742, 0.99542002652317363, 0.97979589711327142]"
      ]
     },
     "execution_count": 31,
     "metadata": {},
     "output_type": "execute_result"
    }
   ],
   "source": [
    "lst"
   ]
  },
  {
   "cell_type": "code",
   "execution_count": 32,
   "metadata": {
    "collapsed": true
   },
   "outputs": [],
   "source": [
    "factors = np.array(lst)"
   ]
  },
  {
   "cell_type": "code",
   "execution_count": 33,
   "metadata": {
    "collapsed": false
   },
   "outputs": [
    {
     "data": {
      "text/plain": [
       "array([ 0.47010213,  0.99542003,  0.9797959 ])"
      ]
     },
     "execution_count": 33,
     "metadata": {},
     "output_type": "execute_result"
    }
   ],
   "source": [
    "factors"
   ]
  },
  {
   "cell_type": "code",
   "execution_count": 34,
   "metadata": {
    "collapsed": false
   },
   "outputs": [
    {
     "name": "stdout",
     "output_type": "stream",
     "text": [
      "[[ 1.]]\n"
     ]
    },
    {
     "name": "stderr",
     "output_type": "stream",
     "text": [
      "/Users/amcyg/anaconda/lib/python2.7/site-packages/sklearn/utils/validation.py:386: DeprecationWarning: Passing 1d arrays as data is deprecated in 0.17 and willraise ValueError in 0.19. Reshape your data either using X.reshape(-1, 1) if your data has a single feature or X.reshape(1, -1) if it contains a single sample.\n",
      "  DeprecationWarning)\n"
     ]
    }
   ],
   "source": [
    "print cosine_similarity(factors)"
   ]
  },
  {
   "cell_type": "markdown",
   "metadata": {},
   "source": [
    "<h3>Here I was wondering if multiplying the cosine similarities for each factor could be interesting. In the full data set, I could still sort by this 'multiplied similarity' factor.</h3>"
   ]
  },
  {
   "cell_type": "code",
   "execution_count": 35,
   "metadata": {
    "collapsed": false
   },
   "outputs": [
    {
     "data": {
      "text/plain": [
       "[0.45849458689108852]"
      ]
     },
     "execution_count": 35,
     "metadata": {},
     "output_type": "execute_result"
    }
   ],
   "source": [
    "[comparisons_events['soma']['fremont'] * comparisons_stroll['soma']['fremont'] * comparisons_commute['soma']['fremont']]"
   ]
  },
  {
   "cell_type": "markdown",
   "metadata": {},
   "source": [
    "<h3>Alternatively, perhaps I could distill the Eventbrite data a bit and make 2-3 features based on events that I think will be most predictive (for example, what is the density of tech meetups per neighborhood?).</h3>"
   ]
  },
  {
   "cell_type": "code",
   "execution_count": null,
   "metadata": {
    "collapsed": true
   },
   "outputs": [],
   "source": []
  }
 ],
 "metadata": {
  "kernelspec": {
   "display_name": "Python 2",
   "language": "python",
   "name": "python2"
  },
  "language_info": {
   "codemirror_mode": {
    "name": "ipython",
    "version": 2
   },
   "file_extension": ".py",
   "mimetype": "text/x-python",
   "name": "python",
   "nbconvert_exporter": "python",
   "pygments_lexer": "ipython2",
   "version": "2.7.11"
  }
 },
 "nbformat": 4,
 "nbformat_minor": 0
}
