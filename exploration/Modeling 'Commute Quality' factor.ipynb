{
 "cells": [
  {
   "cell_type": "code",
   "execution_count": 2,
   "metadata": {
    "collapsed": true
   },
   "outputs": [],
   "source": [
    "import pandas as pd\n",
    "import numpy as np\n",
    "from sklearn.metrics.pairwise import cosine_similarity\n",
    "pd.set_option('display.max_columns', None)"
   ]
  },
  {
   "cell_type": "code",
   "execution_count": 3,
   "metadata": {
    "collapsed": true
   },
   "outputs": [],
   "source": [
    "# import rush hour morning commute data\n",
    "sf = pd.read_csv('../data/commute_by_hood_sf.csv')\n",
    "sea = pd.read_csv('../data/commute_by_hood_sea.csv')"
   ]
  },
  {
   "cell_type": "code",
   "execution_count": 4,
   "metadata": {
    "collapsed": false
   },
   "outputs": [],
   "source": [
    "sf.columns = ['Neighborhood', 'Bicycling (min)', 'Driving (min)', 'Transit (min)', 'Walking (min)']\n",
    "sea.columns = ['Neighborhood', 'Bicycling (min)', 'Driving (min)', 'Transit (min)', 'Walking (min)']"
   ]
  },
  {
   "cell_type": "code",
   "execution_count": 5,
   "metadata": {
    "collapsed": false
   },
   "outputs": [
    {
     "data": {
      "text/html": [
       "<div>\n",
       "<table border=\"1\" class=\"dataframe\">\n",
       "  <thead>\n",
       "    <tr style=\"text-align: right;\">\n",
       "      <th></th>\n",
       "      <th>Bicycling (min)</th>\n",
       "      <th>Driving (min)</th>\n",
       "      <th>Transit (min)</th>\n",
       "      <th>Walking (min)</th>\n",
       "    </tr>\n",
       "  </thead>\n",
       "  <tbody>\n",
       "    <tr>\n",
       "      <th>count</th>\n",
       "      <td>90.000000</td>\n",
       "      <td>90.000000</td>\n",
       "      <td>90.000000</td>\n",
       "      <td>90.000000</td>\n",
       "    </tr>\n",
       "    <tr>\n",
       "      <th>mean</th>\n",
       "      <td>37.992778</td>\n",
       "      <td>15.121111</td>\n",
       "      <td>41.437037</td>\n",
       "      <td>100.785741</td>\n",
       "    </tr>\n",
       "    <tr>\n",
       "      <th>std</th>\n",
       "      <td>16.264942</td>\n",
       "      <td>4.561824</td>\n",
       "      <td>27.195529</td>\n",
       "      <td>47.959177</td>\n",
       "    </tr>\n",
       "    <tr>\n",
       "      <th>min</th>\n",
       "      <td>2.900000</td>\n",
       "      <td>3.350000</td>\n",
       "      <td>5.450000</td>\n",
       "      <td>5.450000</td>\n",
       "    </tr>\n",
       "    <tr>\n",
       "      <th>25%</th>\n",
       "      <td>25.770833</td>\n",
       "      <td>12.375000</td>\n",
       "      <td>28.187500</td>\n",
       "      <td>61.333333</td>\n",
       "    </tr>\n",
       "    <tr>\n",
       "      <th>50%</th>\n",
       "      <td>39.733333</td>\n",
       "      <td>15.525000</td>\n",
       "      <td>34.425000</td>\n",
       "      <td>107.350000</td>\n",
       "    </tr>\n",
       "    <tr>\n",
       "      <th>75%</th>\n",
       "      <td>48.470833</td>\n",
       "      <td>17.958333</td>\n",
       "      <td>47.545833</td>\n",
       "      <td>137.383333</td>\n",
       "    </tr>\n",
       "    <tr>\n",
       "      <th>max</th>\n",
       "      <td>74.166667</td>\n",
       "      <td>24.516667</td>\n",
       "      <td>227.750000</td>\n",
       "      <td>187.033333</td>\n",
       "    </tr>\n",
       "  </tbody>\n",
       "</table>\n",
       "</div>"
      ],
      "text/plain": [
       "       Bicycling (min)  Driving (min)  Transit (min)  Walking (min)\n",
       "count        90.000000      90.000000      90.000000      90.000000\n",
       "mean         37.992778      15.121111      41.437037     100.785741\n",
       "std          16.264942       4.561824      27.195529      47.959177\n",
       "min           2.900000       3.350000       5.450000       5.450000\n",
       "25%          25.770833      12.375000      28.187500      61.333333\n",
       "50%          39.733333      15.525000      34.425000     107.350000\n",
       "75%          48.470833      17.958333      47.545833     137.383333\n",
       "max          74.166667      24.516667     227.750000     187.033333"
      ]
     },
     "execution_count": 5,
     "metadata": {},
     "output_type": "execute_result"
    }
   ],
   "source": [
    "sea.describe()"
   ]
  },
  {
   "cell_type": "code",
   "execution_count": 13,
   "metadata": {
    "collapsed": false
   },
   "outputs": [
    {
     "data": {
      "text/plain": [
       "numpy.float64"
      ]
     },
     "execution_count": 13,
     "metadata": {},
     "output_type": "execute_result"
    }
   ],
   "source": [
    "type(sf['Bicycling (min)'][0])"
   ]
  },
  {
   "cell_type": "code",
   "execution_count": 7,
   "metadata": {
    "collapsed": false
   },
   "outputs": [],
   "source": [
    "def convert_hood_to_array(input_hood):\n",
    "    # convert to numpy array in format needed for cosine similarity comparison\n",
    "    input_hood = np.array(input_hood)[0][1:]\n",
    "    input_hood = input_hood.reshape(1, -1)\n",
    "    return input_hood\n",
    "\n",
    "def compare_hood_to_all_city_hoods(input_hood, hood_city_df, comparison_city_df, input_dict):\n",
    "    hood1 = hood_city_df.loc[hood_city_df['Neighborhood'] == input_hood]\n",
    "    hood1 = convert_hood_to_array(hood1)\n",
    "    for hood in comparison_city_df['Neighborhood']:\n",
    "        hood2 = comparison_city_df.loc[comparison_city_df['Neighborhood'] == hood]\n",
    "        hood2 = convert_hood_to_array(hood2)\n",
    "        if input_hood not in input_dict:\n",
    "            input_dict[input_hood] = {}\n",
    "            input_dict[input_hood][hood] = cosine_similarity(hood1, hood2)[0][0]\n",
    "        else:\n",
    "            input_dict[input_hood][hood] = cosine_similarity(hood1, hood2)[0][0]\n",
    "    return input_dict\n",
    "\n",
    "# compare all Seattle neighborhoods with all SF neighborhoods\n",
    "# note: one optimization for this will be to, instead of a dictionary of dictionaries,\n",
    "# have a dictionary of tuples (hood_name, cosine_similarity), sorted by c_s\n",
    "comparisons = {}\n",
    "for hood in sea['Neighborhood']:\n",
    "    compare_hood_to_all_city_hoods(hood, sea, sf, comparisons)\n",
    "for hood in sf['Neighborhood']:\n",
    "    compare_hood_to_all_city_hoods(hood, sf, sea, comparisons)"
   ]
  },
  {
   "cell_type": "code",
   "execution_count": 8,
   "metadata": {
    "collapsed": false
   },
   "outputs": [
    {
     "name": "stdout",
     "output_type": "stream",
     "text": [
      "Pine Lake Park 0.999702221459\n",
      "Merced Manor 0.999561778611\n",
      "Saint Francis Wood 0.999517581379\n",
      "Balboa Terrace 0.999491700096\n",
      "Mission Terrace 0.998978641891\n"
     ]
    }
   ],
   "source": [
    "city = comparisons['Fremont']\n",
    "for k in sorted(city, key=city.get, reverse=True)[:5]:\n",
    "    print k, city[k]"
   ]
  },
  {
   "cell_type": "code",
   "execution_count": 9,
   "metadata": {
    "collapsed": false
   },
   "outputs": [
    {
     "name": "stdout",
     "output_type": "stream",
     "text": [
      "Central Business District 0.996451652517\n",
      "Pike-Market 0.995356736707\n",
      "Minor 0.993520077133\n",
      "First Hill 0.991868497163\n",
      "Pioneer Square 0.991725499933\n"
     ]
    }
   ],
   "source": [
    "city = comparisons['Yerba Buena']\n",
    "for k in sorted(city, key=city.get, reverse=True)[:5]:\n",
    "    print k, city[k]"
   ]
  },
  {
   "cell_type": "code",
   "execution_count": 10,
   "metadata": {
    "collapsed": false
   },
   "outputs": [
    {
     "name": "stdout",
     "output_type": "stream",
     "text": [
      "Ingleside Heights 0.999882305592\n",
      "Stonestown 0.999678774486\n",
      "Oceanview 0.99953667224\n",
      "Lake Shore 0.999475509464\n",
      "Outer Mission 0.999406291487\n"
     ]
    }
   ],
   "source": [
    "city = comparisons['Wallingford']\n",
    "for k in sorted(city, key=city.get, reverse=True)[:5]:\n",
    "    print k, city[k]"
   ]
  },
  {
   "cell_type": "code",
   "execution_count": null,
   "metadata": {
    "collapsed": true
   },
   "outputs": [],
   "source": []
  }
 ],
 "metadata": {
  "kernelspec": {
   "display_name": "Python 2",
   "language": "python",
   "name": "python2"
  },
  "language_info": {
   "codemirror_mode": {
    "name": "ipython",
    "version": 2
   },
   "file_extension": ".py",
   "mimetype": "text/x-python",
   "name": "python",
   "nbconvert_exporter": "python",
   "pygments_lexer": "ipython2",
   "version": "2.7.11"
  }
 },
 "nbformat": 4,
 "nbformat_minor": 0
}
