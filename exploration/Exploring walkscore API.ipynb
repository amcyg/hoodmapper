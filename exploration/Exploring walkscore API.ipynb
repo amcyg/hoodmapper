{
 "cells": [
  {
   "cell_type": "code",
   "execution_count": 2,
   "metadata": {
    "collapsed": true
   },
   "outputs": [],
   "source": [
    "from geopy.geocoders.googlev3 import GoogleV3\n",
    "import shapefile\n",
    "import pandas as pd\n",
    "import numpy as np\n",
    "import shapely\n",
    "from shapely.geometry import Polygon\n",
    "from shapely.geometry import Point\n",
    "import requests\n",
    "from pprint import pprint"
   ]
  },
  {
   "cell_type": "markdown",
   "metadata": {},
   "source": [
    "<h3>The WalkScore API takes three required parameters: lat, long, address. \n",
    "<br>Strategy: pick a 'representative point' in each neighborhood polygon, get that point's lat/long, and then use the Google Maps API (through a geocoder) to determine the address of that point (or the first address available around that point, since there are likely going to be many.</3>"
   ]
  },
  {
   "cell_type": "code",
   "execution_count": null,
   "metadata": {
    "collapsed": false
   },
   "outputs": [],
   "source": []
  },
  {
   "cell_type": "code",
   "execution_count": 10,
   "metadata": {
    "collapsed": false
   },
   "outputs": [],
   "source": [
    "# Open up shapefiles\n",
    "sf = shapefile.Reader('../downloads/sf_neighborhoods/geo_export_197f44fb-6cc0-472b-81f7-347deefb57df')\n",
    "sea = shapefile.Reader('../downloads/seattle_neighborhoods/Neighborhoods')\n",
    "\n",
    "# Desired output: ['Lower Haight', [(-122.4376483, 37.77310583), (-122.4376483, 37.77310583)]]\n",
    "\n",
    "# Dictionary from city name (e.g. Seattle) to list of \"Desired output\" records,\n",
    "# described above.\n",
    "hoods_by_city = {}\n",
    "\n",
    "def record_to_neighborhood(city, record):\n",
    "    if city == 'Seattle':\n",
    "        if record[5] != 'OOO' and record[5][1] != ' ':\n",
    "            return record[5]\n",
    "        else:\n",
    "            return None\n",
    "    elif city == 'San Francisco':\n",
    "        return record[2]\n",
    "    else:\n",
    "        raise Exception(\"unsupported city: \" + city)\n",
    "\n",
    "# Make Polygon objects for SF and Seattle neighborhoods\n",
    "\n",
    "for city, polyfile in (('San Francisco', sf), ('Seattle', sea)):\n",
    "    for record, shape in zip(polyfile.records(), polyfile.shapes()):\n",
    "        name = record_to_neighborhood(city, record)\n",
    "        if name:\n",
    "            if city not in hoods_by_city:\n",
    "                hoods_by_city[city] = []\n",
    "            hoods_by_city[city].append([name, Polygon([list(reversed(p)) for p in shape.points])])"
   ]
  },
  {
   "cell_type": "markdown",
   "metadata": {},
   "source": [
    "<h3>In lieu of using a poorly designed walkscore Python client, let's use requests instead.</h3>"
   ]
  },
  {
   "cell_type": "code",
   "execution_count": 67,
   "metadata": {
    "collapsed": false
   },
   "outputs": [
    {
     "name": "stdout",
     "output_type": "stream",
     "text": [
      "95\n",
      "93\n",
      "85\n",
      "88\n",
      "90\n",
      "82\n",
      "92\n",
      "78\n",
      "64\n",
      "89\n",
      "97\n",
      "81\n",
      "57\n",
      "99\n",
      "98\n",
      "97\n",
      "74\n",
      "99\n",
      "94\n",
      "59\n",
      "75\n",
      "36\n",
      "80\n",
      "59\n",
      "67\n",
      "96\n",
      "97\n",
      "21\n",
      "79\n",
      "74\n",
      "65\n",
      "98\n",
      "91\n",
      "96\n",
      "93\n",
      "94\n",
      "79\n",
      "12\n",
      "90\n",
      "76\n",
      "97\n",
      "97\n",
      "66\n",
      "85\n",
      "45\n",
      "54\n",
      "76\n",
      "97\n",
      "84\n",
      "53\n",
      "81\n",
      "95\n",
      "99\n",
      "95\n",
      "93\n",
      "65\n",
      "77\n",
      "57\n",
      "88\n",
      "80\n",
      "97\n",
      "85\n",
      "91\n",
      "32\n",
      "64\n",
      "83\n",
      "22\n",
      "93\n",
      "94\n",
      "83\n",
      "73\n",
      "79\n",
      "90\n",
      "98\n",
      "83\n",
      "75\n",
      "99\n",
      "67\n",
      "98\n",
      "64\n",
      "92\n",
      "98\n",
      "65\n",
      "73\n",
      "18\n",
      "34\n",
      "98\n",
      "77\n",
      "41\n",
      "73\n",
      "72\n",
      "96\n",
      "{'Ingleside Terrace': 65, 'Forest Knolls': 36, 'West Portal': 92, 'Golden Gate Heights': 59, 'Cow Hollow': 97, 'Cole Valley/Parnassus Heights': 91, 'Bernal Heights': 90, 'South of Market': 98, 'Duboce Triangle': 98, 'Eureka Valley / Dolores Heights': 97, 'Visitacion Valley': 64, 'Marina': 97, 'Merced Manor': 85, 'Outer Parkside': 57, 'Little Hollywood': 72, 'Saint Francis Wood': 83, 'Forest Hill': 59, 'Mission Bay': 76, 'Forest Hills Extension': 75, 'Miraloma Park': 54, 'Pine Lake Park': 32, 'Outer Sunset': 80, 'Lincoln Park': 18, 'Stonestown': 83, 'Outer Richmond': 88, 'Buena Vista Park/Ashbury Heights': 82, 'Bayview Heights': 73, 'Jordan Park / Laurel Heights': 94, 'South Beach': 90, 'Portola': 64, 'Sunnyside': 75, 'Silver Terrace': 79, 'Lake Shore': 12, 'Central Waterfront/Dogpatch': 77, 'Golden Gate Park': 67, 'Lower Pacific Heights': 97, 'Lake Street': 79, 'Downtown': 99, 'North Waterfront': 93, 'Crocker Amazon': 81, 'Haight Ashbury': 96, 'Telegraph Hill': 99, 'Inner Sunset': 93, 'Outer Mission': 77, 'Central Richmond': 92, 'Yerba Buena': 94, 'Van Ness/Civic Center': 98, 'Twin Peaks': 67, 'Clarendon Heights': 64, 'Mission Dolores': 97, 'Inner Richmond': 96, 'Glen Park': 80, 'Parkside': 85, 'North Panhandle': 95, 'Mission Terrace': 84, 'Candlestick Point': 41, 'Balboa Terrace': 85, 'Hayes Valley': 97, 'Oceanview': 65, 'Merced Heights': 66, 'Ingleside Heights': 74, 'Nob Hill': 96, 'Diamond Heights': 57, 'Noe Valley': 95, 'North Beach': 99, 'Sherwood Forest': 34, 'Bayview': 88, 'Hunters Point': 21, 'Mount Davidson Manor': 81, 'Tenderloin': 98, 'Presidio': 22, 'Midtown Terrace': 45, 'Western Addition': 98, 'Corona Heights': 89, 'Inner Mission': 98, 'Sea Cliff': 73, 'Presidio Heights': 93, 'Anza Vista': 93, 'Westwood Park': 73, 'Potrero Hill': 83, 'Pacific Heights': 97, 'Central Sunset': 78, 'Excelsior': 74, 'Monterey Heights': 53, 'Ingleside': 79, 'Alamo Square': 95, 'Inner Parkside': 91, 'Lone Mountain': 76, 'Westwood Highlands': 65, 'Lakeside': 90, 'Financial District/Barbary Coast': 99, 'Russian Hill': 94}\n"
     ]
    }
   ],
   "source": [
    "# testing accessing a representative point in Shapely\n",
    "alamosq = hoods_by_city['San Francisco'][0][1].representative_point()\n",
    "latitude = alamosq.x\n",
    "longitude = alamosq.y\n",
    "\n",
    "WALKSCORE_API_KEY = 'd6b2f4898db90acf861c91ce9e59e7dd'\n",
    "\n",
    "def walkscore_request(address, latitude, longitude):\n",
    "    response = requests.get('http://api.walkscore.com/score', params={\n",
    "        'format': 'json',\n",
    "        'address': address,\n",
    "        'lat': latitude,\n",
    "        'lon': longitude,\n",
    "        'wsapikey': WALKSCORE_API_KEY,\n",
    "        })\n",
    "    return response.json()\n",
    "\n",
    "# hood = hoods_by_city['San Francisco'][1][1]\n",
    "# centroid = hood.centroid\n",
    "# print centroid, centroid.x\n",
    "walkscores = {}\n",
    "for hood in hoods_by_city['San Francisco']:\n",
    "    point = hood[1].centroid\n",
    "    latitude = point.x\n",
    "    longitude = point.y\n",
    "    walkscore = walkscore_request(\"\", latitude, longitude)['walkscore']\n",
    "    print walkscore\n",
    "    if hood[0] not in walkscores:\n",
    "        walkscores[hood[0]] = walkscore\n",
    "\n",
    "print walkscores\n",
    "# It seems that you can pass an empty string for address and they'll figure it out themselves\n",
    "#pprint(walkscore_request(\"747 Howard St, San Francisco, CA 94103\", 37.783817, -122.4007327))"
   ]
  },
  {
   "cell_type": "code",
   "execution_count": 69,
   "metadata": {
    "collapsed": false
   },
   "outputs": [],
   "source": [
    "ws = pd.DataFrame(walkscores.items(), columns=['Neighborhood', 'Walk Score'])"
   ]
  },
  {
   "cell_type": "code",
   "execution_count": 70,
   "metadata": {
    "collapsed": false
   },
   "outputs": [
    {
     "data": {
      "text/html": [
       "<div>\n",
       "<table border=\"1\" class=\"dataframe\">\n",
       "  <thead>\n",
       "    <tr style=\"text-align: right;\">\n",
       "      <th></th>\n",
       "      <th>Neighborhood</th>\n",
       "      <th>Walk Score</th>\n",
       "    </tr>\n",
       "  </thead>\n",
       "  <tbody>\n",
       "    <tr>\n",
       "      <th>0</th>\n",
       "      <td>Ingleside Terrace</td>\n",
       "      <td>65</td>\n",
       "    </tr>\n",
       "    <tr>\n",
       "      <th>1</th>\n",
       "      <td>Forest Knolls</td>\n",
       "      <td>36</td>\n",
       "    </tr>\n",
       "    <tr>\n",
       "      <th>2</th>\n",
       "      <td>West Portal</td>\n",
       "      <td>92</td>\n",
       "    </tr>\n",
       "    <tr>\n",
       "      <th>3</th>\n",
       "      <td>Golden Gate Heights</td>\n",
       "      <td>59</td>\n",
       "    </tr>\n",
       "    <tr>\n",
       "      <th>4</th>\n",
       "      <td>Cow Hollow</td>\n",
       "      <td>97</td>\n",
       "    </tr>\n",
       "  </tbody>\n",
       "</table>\n",
       "</div>"
      ],
      "text/plain": [
       "          Neighborhood  Walk Score\n",
       "0    Ingleside Terrace          65\n",
       "1        Forest Knolls          36\n",
       "2          West Portal          92\n",
       "3  Golden Gate Heights          59\n",
       "4           Cow Hollow          97"
      ]
     },
     "execution_count": 70,
     "metadata": {},
     "output_type": "execute_result"
    }
   ],
   "source": [
    "ws.head()"
   ]
  },
  {
   "cell_type": "code",
   "execution_count": 10,
   "metadata": {
    "collapsed": false
   },
   "outputs": [],
   "source": [
    "ws2 = pd.read_csv('../data/walk_scores_Seattle.csv')"
   ]
  },
  {
   "cell_type": "code",
   "execution_count": 11,
   "metadata": {
    "collapsed": false
   },
   "outputs": [
    {
     "data": {
      "text/html": [
       "<div>\n",
       "<table border=\"1\" class=\"dataframe\">\n",
       "  <thead>\n",
       "    <tr style=\"text-align: right;\">\n",
       "      <th></th>\n",
       "      <th>Neighborhood</th>\n",
       "      <th>Walk Score</th>\n",
       "    </tr>\n",
       "  </thead>\n",
       "  <tbody>\n",
       "    <tr>\n",
       "      <th>0</th>\n",
       "      <td>Eastlake</td>\n",
       "      <td>76</td>\n",
       "    </tr>\n",
       "    <tr>\n",
       "      <th>1</th>\n",
       "      <td>Harrison/Denny-Blaine</td>\n",
       "      <td>76</td>\n",
       "    </tr>\n",
       "    <tr>\n",
       "      <th>2</th>\n",
       "      <td>Minor</td>\n",
       "      <td>88</td>\n",
       "    </tr>\n",
       "    <tr>\n",
       "      <th>3</th>\n",
       "      <td>Gatewood</td>\n",
       "      <td>63</td>\n",
       "    </tr>\n",
       "    <tr>\n",
       "      <th>4</th>\n",
       "      <td>Fremont</td>\n",
       "      <td>78</td>\n",
       "    </tr>\n",
       "  </tbody>\n",
       "</table>\n",
       "</div>"
      ],
      "text/plain": [
       "            Neighborhood  Walk Score\n",
       "0               Eastlake          76\n",
       "1  Harrison/Denny-Blaine          76\n",
       "2                  Minor          88\n",
       "3               Gatewood          63\n",
       "4                Fremont          78"
      ]
     },
     "execution_count": 11,
     "metadata": {},
     "output_type": "execute_result"
    }
   ],
   "source": [
    "ws2.head()"
   ]
  },
  {
   "cell_type": "code",
   "execution_count": 21,
   "metadata": {
    "collapsed": false
   },
   "outputs": [
    {
     "name": "stdout",
     "output_type": "stream",
     "text": [
      "{u'description': u\"Rider's Paradise\",\n",
      " u'help_link': u'https://www.redfin.com/how-walk-score-works',\n",
      " u'logo_url': u'https://cdn.walk.sc/images/transit-score-logo.png',\n",
      " u'summary': u'116 nearby routes: 99 bus, 14 rail, 3 other',\n",
      " u'transit_score': 100,\n",
      " u'ws_link': u'https://www.walkscore.com/score/loc/lat=37.7838/lng=-122.4007/?utm_source=wolak.net&utm_medium=ts_api&utm_campaign=ts_api'}\n"
     ]
    }
   ],
   "source": [
    "WALKSCORE_API_KEY = 'd6b2f4898db90acf861c91ce9e59e7dd'\n",
    "\n",
    "def transit_score_request(latitude, longitude, city, state):\n",
    "    response = requests.get('http://transit.walkscore.com/transit/score/', params={\n",
    "        'lat': latitude,\n",
    "        'lon': longitude,\n",
    "        'city': city,\n",
    "        'state': state,\n",
    "        'wsapikey': WALKSCORE_API_KEY,\n",
    "    })\n",
    "    return response.json()\n",
    "\n",
    "pprint(transit_score_request(37.783817, -122.4007327, \"San Francisco\", \"CA\"))"
   ]
  },
  {
   "cell_type": "code",
   "execution_count": null,
   "metadata": {
    "collapsed": true
   },
   "outputs": [],
   "source": []
  }
 ],
 "metadata": {
  "kernelspec": {
   "display_name": "Python 2",
   "language": "python",
   "name": "python2"
  },
  "language_info": {
   "codemirror_mode": {
    "name": "ipython",
    "version": 2
   },
   "file_extension": ".py",
   "mimetype": "text/x-python",
   "name": "python",
   "nbconvert_exporter": "python",
   "pygments_lexer": "ipython2",
   "version": "2.7.11"
  }
 },
 "nbformat": 4,
 "nbformat_minor": 0
}
