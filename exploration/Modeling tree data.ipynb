{
 "cells": [
  {
   "cell_type": "code",
   "execution_count": 54,
   "metadata": {
    "collapsed": true
   },
   "outputs": [],
   "source": [
    "import pandas as pd\n",
    "import numpy as np\n",
    "from sklearn.metrics.pairwise import cosine_similarity\n",
    "pd.set_option('display.max_columns', None)"
   ]
  },
  {
   "cell_type": "code",
   "execution_count": 3,
   "metadata": {
    "collapsed": false
   },
   "outputs": [
    {
     "data": {
      "text/html": [
       "<div>\n",
       "<table border=\"1\" class=\"dataframe\">\n",
       "  <thead>\n",
       "    <tr style=\"text-align: right;\">\n",
       "      <th></th>\n",
       "      <th>Unnamed: 0</th>\n",
       "      <th>City</th>\n",
       "      <th>Latitude</th>\n",
       "      <th>Longitude</th>\n",
       "      <th>Neighborhood</th>\n",
       "    </tr>\n",
       "  </thead>\n",
       "  <tbody>\n",
       "    <tr>\n",
       "      <th>0</th>\n",
       "      <td>0</td>\n",
       "      <td>San Francisco</td>\n",
       "      <td>37.778300</td>\n",
       "      <td>-122.507268</td>\n",
       "      <td>Outer Richmond</td>\n",
       "    </tr>\n",
       "    <tr>\n",
       "      <th>1</th>\n",
       "      <td>1</td>\n",
       "      <td>San Francisco</td>\n",
       "      <td>37.752547</td>\n",
       "      <td>-122.393785</td>\n",
       "      <td>Potrero Hill</td>\n",
       "    </tr>\n",
       "    <tr>\n",
       "      <th>2</th>\n",
       "      <td>2</td>\n",
       "      <td>San Francisco</td>\n",
       "      <td>37.780364</td>\n",
       "      <td>-122.405430</td>\n",
       "      <td>South of Market</td>\n",
       "    </tr>\n",
       "    <tr>\n",
       "      <th>3</th>\n",
       "      <td>3</td>\n",
       "      <td>San Francisco</td>\n",
       "      <td>37.781660</td>\n",
       "      <td>-122.438551</td>\n",
       "      <td>Western Addition</td>\n",
       "    </tr>\n",
       "    <tr>\n",
       "      <th>4</th>\n",
       "      <td>4</td>\n",
       "      <td>San Francisco</td>\n",
       "      <td>37.789498</td>\n",
       "      <td>-122.388450</td>\n",
       "      <td>South Beach</td>\n",
       "    </tr>\n",
       "  </tbody>\n",
       "</table>\n",
       "</div>"
      ],
      "text/plain": [
       "   Unnamed: 0           City   Latitude   Longitude      Neighborhood\n",
       "0           0  San Francisco  37.778300 -122.507268    Outer Richmond\n",
       "1           1  San Francisco  37.752547 -122.393785      Potrero Hill\n",
       "2           2  San Francisco  37.780364 -122.405430   South of Market\n",
       "3           3  San Francisco  37.781660 -122.438551  Western Addition\n",
       "4           4  San Francisco  37.789498 -122.388450       South Beach"
      ]
     },
     "execution_count": 3,
     "metadata": {},
     "output_type": "execute_result"
    }
   ],
   "source": [
    "sf = pd.read_csv('../data/sf_trees_all_records_tagged.csv')\n",
    "sf.head()"
   ]
  },
  {
   "cell_type": "code",
   "execution_count": 4,
   "metadata": {
    "collapsed": false
   },
   "outputs": [],
   "source": [
    "sf = sf.drop(sf.columns[0], axis=1)"
   ]
  },
  {
   "cell_type": "code",
   "execution_count": 5,
   "metadata": {
    "collapsed": false
   },
   "outputs": [
    {
     "data": {
      "text/html": [
       "<div>\n",
       "<table border=\"1\" class=\"dataframe\">\n",
       "  <thead>\n",
       "    <tr style=\"text-align: right;\">\n",
       "      <th></th>\n",
       "      <th>Neighborhood</th>\n",
       "      <th>Number of Trees</th>\n",
       "    </tr>\n",
       "  </thead>\n",
       "  <tbody>\n",
       "    <tr>\n",
       "      <th>0</th>\n",
       "      <td>Outer Richmond</td>\n",
       "      <td>1</td>\n",
       "    </tr>\n",
       "    <tr>\n",
       "      <th>1</th>\n",
       "      <td>Potrero Hill</td>\n",
       "      <td>1</td>\n",
       "    </tr>\n",
       "    <tr>\n",
       "      <th>2</th>\n",
       "      <td>South of Market</td>\n",
       "      <td>1</td>\n",
       "    </tr>\n",
       "    <tr>\n",
       "      <th>3</th>\n",
       "      <td>Western Addition</td>\n",
       "      <td>1</td>\n",
       "    </tr>\n",
       "    <tr>\n",
       "      <th>4</th>\n",
       "      <td>South Beach</td>\n",
       "      <td>1</td>\n",
       "    </tr>\n",
       "  </tbody>\n",
       "</table>\n",
       "</div>"
      ],
      "text/plain": [
       "       Neighborhood  Number of Trees\n",
       "0    Outer Richmond                1\n",
       "1      Potrero Hill                1\n",
       "2   South of Market                1\n",
       "3  Western Addition                1\n",
       "4       South Beach                1"
      ]
     },
     "execution_count": 5,
     "metadata": {},
     "output_type": "execute_result"
    }
   ],
   "source": [
    "sf.head()\n",
    "sf['Number of Trees'] = 1\n",
    "sf = sf[['Neighborhood', 'Number of Trees']]\n",
    "sf.head()"
   ]
  },
  {
   "cell_type": "code",
   "execution_count": 6,
   "metadata": {
    "collapsed": false
   },
   "outputs": [
    {
     "data": {
      "text/plain": [
       "92"
      ]
     },
     "execution_count": 6,
     "metadata": {},
     "output_type": "execute_result"
    }
   ],
   "source": [
    "sf['Neighborhood'].value_counts().count()"
   ]
  },
  {
   "cell_type": "code",
   "execution_count": 7,
   "metadata": {
    "collapsed": false
   },
   "outputs": [],
   "source": [
    "trees_sf = sf.groupby(['Neighborhood']).count()"
   ]
  },
  {
   "cell_type": "code",
   "execution_count": 8,
   "metadata": {
    "collapsed": false
   },
   "outputs": [
    {
     "data": {
      "text/html": [
       "<div>\n",
       "<table border=\"1\" class=\"dataframe\">\n",
       "  <thead>\n",
       "    <tr style=\"text-align: right;\">\n",
       "      <th></th>\n",
       "      <th>Number of Trees</th>\n",
       "    </tr>\n",
       "    <tr>\n",
       "      <th>Neighborhood</th>\n",
       "      <th></th>\n",
       "    </tr>\n",
       "  </thead>\n",
       "  <tbody>\n",
       "    <tr>\n",
       "      <th>Alamo Square</th>\n",
       "      <td>576</td>\n",
       "    </tr>\n",
       "    <tr>\n",
       "      <th>Anza Vista</th>\n",
       "      <td>412</td>\n",
       "    </tr>\n",
       "    <tr>\n",
       "      <th>Balboa Terrace</th>\n",
       "      <td>271</td>\n",
       "    </tr>\n",
       "    <tr>\n",
       "      <th>Bayview</th>\n",
       "      <td>3750</td>\n",
       "    </tr>\n",
       "    <tr>\n",
       "      <th>Bayview Heights</th>\n",
       "      <td>181</td>\n",
       "    </tr>\n",
       "    <tr>\n",
       "      <th>Bernal Heights</th>\n",
       "      <td>3595</td>\n",
       "    </tr>\n",
       "    <tr>\n",
       "      <th>Buena Vista Park/Ashbury Heights</th>\n",
       "      <td>636</td>\n",
       "    </tr>\n",
       "    <tr>\n",
       "      <th>Candlestick Point</th>\n",
       "      <td>77</td>\n",
       "    </tr>\n",
       "    <tr>\n",
       "      <th>Central Richmond</th>\n",
       "      <td>2318</td>\n",
       "    </tr>\n",
       "    <tr>\n",
       "      <th>Central Sunset</th>\n",
       "      <td>1701</td>\n",
       "    </tr>\n",
       "    <tr>\n",
       "      <th>Central Waterfront/Dogpatch</th>\n",
       "      <td>826</td>\n",
       "    </tr>\n",
       "    <tr>\n",
       "      <th>Clarendon Heights</th>\n",
       "      <td>65</td>\n",
       "    </tr>\n",
       "    <tr>\n",
       "      <th>Cole Valley/Parnassus Heights</th>\n",
       "      <td>885</td>\n",
       "    </tr>\n",
       "    <tr>\n",
       "      <th>Corona Heights</th>\n",
       "      <td>565</td>\n",
       "    </tr>\n",
       "    <tr>\n",
       "      <th>Cow Hollow</th>\n",
       "      <td>1027</td>\n",
       "    </tr>\n",
       "    <tr>\n",
       "      <th>Crocker Amazon</th>\n",
       "      <td>601</td>\n",
       "    </tr>\n",
       "    <tr>\n",
       "      <th>Diamond Heights</th>\n",
       "      <td>323</td>\n",
       "    </tr>\n",
       "    <tr>\n",
       "      <th>Downtown</th>\n",
       "      <td>739</td>\n",
       "    </tr>\n",
       "    <tr>\n",
       "      <th>Duboce Triangle</th>\n",
       "      <td>871</td>\n",
       "    </tr>\n",
       "    <tr>\n",
       "      <th>Eureka Valley / Dolores Heights</th>\n",
       "      <td>2395</td>\n",
       "    </tr>\n",
       "    <tr>\n",
       "      <th>Excelsior</th>\n",
       "      <td>1467</td>\n",
       "    </tr>\n",
       "    <tr>\n",
       "      <th>Financial District/Barbary Coast</th>\n",
       "      <td>879</td>\n",
       "    </tr>\n",
       "    <tr>\n",
       "      <th>Forest Hill</th>\n",
       "      <td>235</td>\n",
       "    </tr>\n",
       "    <tr>\n",
       "      <th>Forest Hills Extension</th>\n",
       "      <td>151</td>\n",
       "    </tr>\n",
       "    <tr>\n",
       "      <th>Forest Knolls</th>\n",
       "      <td>32</td>\n",
       "    </tr>\n",
       "    <tr>\n",
       "      <th>Glen Park</th>\n",
       "      <td>1516</td>\n",
       "    </tr>\n",
       "    <tr>\n",
       "      <th>Golden Gate Heights</th>\n",
       "      <td>287</td>\n",
       "    </tr>\n",
       "    <tr>\n",
       "      <th>Golden Gate Park</th>\n",
       "      <td>65</td>\n",
       "    </tr>\n",
       "    <tr>\n",
       "      <th>Haight Ashbury</th>\n",
       "      <td>905</td>\n",
       "    </tr>\n",
       "    <tr>\n",
       "      <th>Hayes Valley</th>\n",
       "      <td>2691</td>\n",
       "    </tr>\n",
       "    <tr>\n",
       "      <th>...</th>\n",
       "      <td>...</td>\n",
       "    </tr>\n",
       "    <tr>\n",
       "      <th>Outer Mission</th>\n",
       "      <td>378</td>\n",
       "    </tr>\n",
       "    <tr>\n",
       "      <th>Outer Parkside</th>\n",
       "      <td>859</td>\n",
       "    </tr>\n",
       "    <tr>\n",
       "      <th>Outer Richmond</th>\n",
       "      <td>1470</td>\n",
       "    </tr>\n",
       "    <tr>\n",
       "      <th>Outer Sunset</th>\n",
       "      <td>1083</td>\n",
       "    </tr>\n",
       "    <tr>\n",
       "      <th>Pacific Heights</th>\n",
       "      <td>2542</td>\n",
       "    </tr>\n",
       "    <tr>\n",
       "      <th>Parkside</th>\n",
       "      <td>1486</td>\n",
       "    </tr>\n",
       "    <tr>\n",
       "      <th>Pine Lake Park</th>\n",
       "      <td>115</td>\n",
       "    </tr>\n",
       "    <tr>\n",
       "      <th>Portola</th>\n",
       "      <td>1227</td>\n",
       "    </tr>\n",
       "    <tr>\n",
       "      <th>Potrero Hill</th>\n",
       "      <td>2107</td>\n",
       "    </tr>\n",
       "    <tr>\n",
       "      <th>Presidio</th>\n",
       "      <td>22</td>\n",
       "    </tr>\n",
       "    <tr>\n",
       "      <th>Presidio Heights</th>\n",
       "      <td>752</td>\n",
       "    </tr>\n",
       "    <tr>\n",
       "      <th>Russian Hill</th>\n",
       "      <td>1094</td>\n",
       "    </tr>\n",
       "    <tr>\n",
       "      <th>Saint Francis Wood</th>\n",
       "      <td>173</td>\n",
       "    </tr>\n",
       "    <tr>\n",
       "      <th>Sea Cliff</th>\n",
       "      <td>291</td>\n",
       "    </tr>\n",
       "    <tr>\n",
       "      <th>Sherwood Forest</th>\n",
       "      <td>30</td>\n",
       "    </tr>\n",
       "    <tr>\n",
       "      <th>Silver Terrace</th>\n",
       "      <td>465</td>\n",
       "    </tr>\n",
       "    <tr>\n",
       "      <th>South Beach</th>\n",
       "      <td>1257</td>\n",
       "    </tr>\n",
       "    <tr>\n",
       "      <th>South of Market</th>\n",
       "      <td>2805</td>\n",
       "    </tr>\n",
       "    <tr>\n",
       "      <th>Stonestown</th>\n",
       "      <td>234</td>\n",
       "    </tr>\n",
       "    <tr>\n",
       "      <th>Sunnyside</th>\n",
       "      <td>887</td>\n",
       "    </tr>\n",
       "    <tr>\n",
       "      <th>Telegraph Hill</th>\n",
       "      <td>440</td>\n",
       "    </tr>\n",
       "    <tr>\n",
       "      <th>Tenderloin</th>\n",
       "      <td>437</td>\n",
       "    </tr>\n",
       "    <tr>\n",
       "      <th>Twin Peaks</th>\n",
       "      <td>64</td>\n",
       "    </tr>\n",
       "    <tr>\n",
       "      <th>Van Ness/Civic Center</th>\n",
       "      <td>1588</td>\n",
       "    </tr>\n",
       "    <tr>\n",
       "      <th>Visitacion Valley</th>\n",
       "      <td>732</td>\n",
       "    </tr>\n",
       "    <tr>\n",
       "      <th>West Portal</th>\n",
       "      <td>447</td>\n",
       "    </tr>\n",
       "    <tr>\n",
       "      <th>Western Addition</th>\n",
       "      <td>1745</td>\n",
       "    </tr>\n",
       "    <tr>\n",
       "      <th>Westwood Highlands</th>\n",
       "      <td>108</td>\n",
       "    </tr>\n",
       "    <tr>\n",
       "      <th>Westwood Park</th>\n",
       "      <td>513</td>\n",
       "    </tr>\n",
       "    <tr>\n",
       "      <th>Yerba Buena</th>\n",
       "      <td>1178</td>\n",
       "    </tr>\n",
       "  </tbody>\n",
       "</table>\n",
       "<p>92 rows × 1 columns</p>\n",
       "</div>"
      ],
      "text/plain": [
       "                                  Number of Trees\n",
       "Neighborhood                                     \n",
       "Alamo Square                                  576\n",
       "Anza Vista                                    412\n",
       "Balboa Terrace                                271\n",
       "Bayview                                      3750\n",
       "Bayview Heights                               181\n",
       "Bernal Heights                               3595\n",
       "Buena Vista Park/Ashbury Heights              636\n",
       "Candlestick Point                              77\n",
       "Central Richmond                             2318\n",
       "Central Sunset                               1701\n",
       "Central Waterfront/Dogpatch                   826\n",
       "Clarendon Heights                              65\n",
       "Cole Valley/Parnassus Heights                 885\n",
       "Corona Heights                                565\n",
       "Cow Hollow                                   1027\n",
       "Crocker Amazon                                601\n",
       "Diamond Heights                               323\n",
       "Downtown                                      739\n",
       "Duboce Triangle                               871\n",
       "Eureka Valley / Dolores Heights              2395\n",
       "Excelsior                                    1467\n",
       "Financial District/Barbary Coast              879\n",
       "Forest Hill                                   235\n",
       "Forest Hills Extension                        151\n",
       "Forest Knolls                                  32\n",
       "Glen Park                                    1516\n",
       "Golden Gate Heights                           287\n",
       "Golden Gate Park                               65\n",
       "Haight Ashbury                                905\n",
       "Hayes Valley                                 2691\n",
       "...                                           ...\n",
       "Outer Mission                                 378\n",
       "Outer Parkside                                859\n",
       "Outer Richmond                               1470\n",
       "Outer Sunset                                 1083\n",
       "Pacific Heights                              2542\n",
       "Parkside                                     1486\n",
       "Pine Lake Park                                115\n",
       "Portola                                      1227\n",
       "Potrero Hill                                 2107\n",
       "Presidio                                       22\n",
       "Presidio Heights                              752\n",
       "Russian Hill                                 1094\n",
       "Saint Francis Wood                            173\n",
       "Sea Cliff                                     291\n",
       "Sherwood Forest                                30\n",
       "Silver Terrace                                465\n",
       "South Beach                                  1257\n",
       "South of Market                              2805\n",
       "Stonestown                                    234\n",
       "Sunnyside                                     887\n",
       "Telegraph Hill                                440\n",
       "Tenderloin                                    437\n",
       "Twin Peaks                                     64\n",
       "Van Ness/Civic Center                        1588\n",
       "Visitacion Valley                             732\n",
       "West Portal                                   447\n",
       "Western Addition                             1745\n",
       "Westwood Highlands                            108\n",
       "Westwood Park                                 513\n",
       "Yerba Buena                                  1178\n",
       "\n",
       "[92 rows x 1 columns]"
      ]
     },
     "execution_count": 8,
     "metadata": {},
     "output_type": "execute_result"
    }
   ],
   "source": [
    "trees_sf"
   ]
  },
  {
   "cell_type": "code",
   "execution_count": 33,
   "metadata": {
    "collapsed": false
   },
   "outputs": [
    {
     "data": {
      "text/html": [
       "<div>\n",
       "<table border=\"1\" class=\"dataframe\">\n",
       "  <thead>\n",
       "    <tr style=\"text-align: right;\">\n",
       "      <th></th>\n",
       "      <th>Neighborhood</th>\n",
       "      <th>Number of Trees</th>\n",
       "    </tr>\n",
       "  </thead>\n",
       "  <tbody>\n",
       "    <tr>\n",
       "      <th>0</th>\n",
       "      <td>Adams</td>\n",
       "      <td>2486</td>\n",
       "    </tr>\n",
       "    <tr>\n",
       "      <th>1</th>\n",
       "      <td>Alki</td>\n",
       "      <td>800</td>\n",
       "    </tr>\n",
       "    <tr>\n",
       "      <th>2</th>\n",
       "      <td>Arbor Heights</td>\n",
       "      <td>39</td>\n",
       "    </tr>\n",
       "    <tr>\n",
       "      <th>3</th>\n",
       "      <td>Atlantic</td>\n",
       "      <td>2277</td>\n",
       "    </tr>\n",
       "    <tr>\n",
       "      <th>4</th>\n",
       "      <td>Belltown</td>\n",
       "      <td>2286</td>\n",
       "    </tr>\n",
       "  </tbody>\n",
       "</table>\n",
       "</div>"
      ],
      "text/plain": [
       "    Neighborhood  Number of Trees\n",
       "0          Adams             2486\n",
       "1           Alki              800\n",
       "2  Arbor Heights               39\n",
       "3       Atlantic             2277\n",
       "4       Belltown             2286"
      ]
     },
     "execution_count": 33,
     "metadata": {},
     "output_type": "execute_result"
    }
   ],
   "source": [
    "sea = pd.read_csv('../data/trees_by_hood_Seattle.csv')\n",
    "sea.head()"
   ]
  },
  {
   "cell_type": "code",
   "execution_count": 34,
   "metadata": {
    "collapsed": false
   },
   "outputs": [
    {
     "data": {
      "text/html": [
       "<div>\n",
       "<table border=\"1\" class=\"dataframe\">\n",
       "  <thead>\n",
       "    <tr style=\"text-align: right;\">\n",
       "      <th></th>\n",
       "      <th>Neighborhood</th>\n",
       "      <th>Number of Trees</th>\n",
       "    </tr>\n",
       "  </thead>\n",
       "  <tbody>\n",
       "    <tr>\n",
       "      <th>0</th>\n",
       "      <td>Adams</td>\n",
       "      <td>1</td>\n",
       "    </tr>\n",
       "    <tr>\n",
       "      <th>1</th>\n",
       "      <td>Alki</td>\n",
       "      <td>1</td>\n",
       "    </tr>\n",
       "    <tr>\n",
       "      <th>2</th>\n",
       "      <td>Arbor Heights</td>\n",
       "      <td>1</td>\n",
       "    </tr>\n",
       "    <tr>\n",
       "      <th>3</th>\n",
       "      <td>Atlantic</td>\n",
       "      <td>1</td>\n",
       "    </tr>\n",
       "    <tr>\n",
       "      <th>4</th>\n",
       "      <td>Belltown</td>\n",
       "      <td>1</td>\n",
       "    </tr>\n",
       "  </tbody>\n",
       "</table>\n",
       "</div>"
      ],
      "text/plain": [
       "    Neighborhood  Number of Trees\n",
       "0          Adams                1\n",
       "1           Alki                1\n",
       "2  Arbor Heights                1\n",
       "3       Atlantic                1\n",
       "4       Belltown                1"
      ]
     },
     "execution_count": 34,
     "metadata": {},
     "output_type": "execute_result"
    }
   ],
   "source": [
    "sea['Number of Trees'] = 1\n",
    "sea = sea[['Neighborhood', 'Number of Trees']]\n",
    "sea.head()"
   ]
  },
  {
   "cell_type": "code",
   "execution_count": 11,
   "metadata": {
    "collapsed": true
   },
   "outputs": [],
   "source": [
    "trees_sea = sea.groupby(['Neighborhood']).count()"
   ]
  },
  {
   "cell_type": "code",
   "execution_count": 12,
   "metadata": {
    "collapsed": false
   },
   "outputs": [],
   "source": [
    "trees_sea.to_csv('../data/sea_trees_by_hood.csv')"
   ]
  },
  {
   "cell_type": "code",
   "execution_count": 35,
   "metadata": {
    "collapsed": true
   },
   "outputs": [],
   "source": [
    "sea_trees = pd.read_csv('../data/trees_by_hood_Seattle.csv')\n",
    "sf_trees = pd.read_csv('../data/trees_by_hood_SF.csv')"
   ]
  },
  {
   "cell_type": "code",
   "execution_count": 36,
   "metadata": {
    "collapsed": false
   },
   "outputs": [
    {
     "data": {
      "text/html": [
       "<div>\n",
       "<table border=\"1\" class=\"dataframe\">\n",
       "  <thead>\n",
       "    <tr style=\"text-align: right;\">\n",
       "      <th></th>\n",
       "      <th>Neighborhood</th>\n",
       "      <th>Number of Trees</th>\n",
       "    </tr>\n",
       "  </thead>\n",
       "  <tbody>\n",
       "    <tr>\n",
       "      <th>0</th>\n",
       "      <td>Adams</td>\n",
       "      <td>2486</td>\n",
       "    </tr>\n",
       "    <tr>\n",
       "      <th>1</th>\n",
       "      <td>Alki</td>\n",
       "      <td>800</td>\n",
       "    </tr>\n",
       "    <tr>\n",
       "      <th>2</th>\n",
       "      <td>Arbor Heights</td>\n",
       "      <td>39</td>\n",
       "    </tr>\n",
       "    <tr>\n",
       "      <th>3</th>\n",
       "      <td>Atlantic</td>\n",
       "      <td>2277</td>\n",
       "    </tr>\n",
       "    <tr>\n",
       "      <th>4</th>\n",
       "      <td>Belltown</td>\n",
       "      <td>2286</td>\n",
       "    </tr>\n",
       "  </tbody>\n",
       "</table>\n",
       "</div>"
      ],
      "text/plain": [
       "    Neighborhood  Number of Trees\n",
       "0          Adams             2486\n",
       "1           Alki              800\n",
       "2  Arbor Heights               39\n",
       "3       Atlantic             2277\n",
       "4       Belltown             2286"
      ]
     },
     "execution_count": 36,
     "metadata": {},
     "output_type": "execute_result"
    }
   ],
   "source": [
    "sea_trees.head()"
   ]
  },
  {
   "cell_type": "code",
   "execution_count": 37,
   "metadata": {
    "collapsed": false
   },
   "outputs": [
    {
     "data": {
      "text/html": [
       "<div>\n",
       "<table border=\"1\" class=\"dataframe\">\n",
       "  <thead>\n",
       "    <tr style=\"text-align: right;\">\n",
       "      <th></th>\n",
       "      <th>Neighborhood</th>\n",
       "      <th>Area (sq km)</th>\n",
       "    </tr>\n",
       "  </thead>\n",
       "  <tbody>\n",
       "    <tr>\n",
       "      <th>0</th>\n",
       "      <td>Loyal Heights</td>\n",
       "      <td>2.933042</td>\n",
       "    </tr>\n",
       "    <tr>\n",
       "      <th>1</th>\n",
       "      <td>Adams</td>\n",
       "      <td>3.085047</td>\n",
       "    </tr>\n",
       "    <tr>\n",
       "      <th>2</th>\n",
       "      <td>Whittier Heights</td>\n",
       "      <td>1.952875</td>\n",
       "    </tr>\n",
       "    <tr>\n",
       "      <th>3</th>\n",
       "      <td>West Woodland</td>\n",
       "      <td>3.053022</td>\n",
       "    </tr>\n",
       "    <tr>\n",
       "      <th>4</th>\n",
       "      <td>Phinney Ridge</td>\n",
       "      <td>4.418331</td>\n",
       "    </tr>\n",
       "  </tbody>\n",
       "</table>\n",
       "</div>"
      ],
      "text/plain": [
       "       Neighborhood  Area (sq km)\n",
       "0     Loyal Heights      2.933042\n",
       "1             Adams      3.085047\n",
       "2  Whittier Heights      1.952875\n",
       "3     West Woodland      3.053022\n",
       "4     Phinney Ridge      4.418331"
      ]
     },
     "execution_count": 37,
     "metadata": {},
     "output_type": "execute_result"
    }
   ],
   "source": [
    "sea_hood_areas = pd.read_csv('../data/sea_hood_areas.csv')\n",
    "sea_hood_areas.head()"
   ]
  },
  {
   "cell_type": "code",
   "execution_count": 38,
   "metadata": {
    "collapsed": true
   },
   "outputs": [],
   "source": [
    "sea_trees = sea_trees.merge(sea_hood_areas, on='Neighborhood', how='outer')"
   ]
  },
  {
   "cell_type": "code",
   "execution_count": 39,
   "metadata": {
    "collapsed": false
   },
   "outputs": [
    {
     "data": {
      "text/html": [
       "<div>\n",
       "<table border=\"1\" class=\"dataframe\">\n",
       "  <thead>\n",
       "    <tr style=\"text-align: right;\">\n",
       "      <th></th>\n",
       "      <th>Neighborhood</th>\n",
       "      <th>Number of Trees</th>\n",
       "      <th>Area (sq km)</th>\n",
       "    </tr>\n",
       "  </thead>\n",
       "  <tbody>\n",
       "    <tr>\n",
       "      <th>0</th>\n",
       "      <td>Adams</td>\n",
       "      <td>2486</td>\n",
       "      <td>3.085047</td>\n",
       "    </tr>\n",
       "    <tr>\n",
       "      <th>1</th>\n",
       "      <td>Alki</td>\n",
       "      <td>800</td>\n",
       "      <td>3.374849</td>\n",
       "    </tr>\n",
       "    <tr>\n",
       "      <th>2</th>\n",
       "      <td>Arbor Heights</td>\n",
       "      <td>39</td>\n",
       "      <td>3.591894</td>\n",
       "    </tr>\n",
       "    <tr>\n",
       "      <th>3</th>\n",
       "      <td>Atlantic</td>\n",
       "      <td>2277</td>\n",
       "      <td>2.837951</td>\n",
       "    </tr>\n",
       "    <tr>\n",
       "      <th>4</th>\n",
       "      <td>Belltown</td>\n",
       "      <td>2286</td>\n",
       "      <td>2.057272</td>\n",
       "    </tr>\n",
       "  </tbody>\n",
       "</table>\n",
       "</div>"
      ],
      "text/plain": [
       "    Neighborhood  Number of Trees  Area (sq km)\n",
       "0          Adams             2486      3.085047\n",
       "1           Alki              800      3.374849\n",
       "2  Arbor Heights               39      3.591894\n",
       "3       Atlantic             2277      2.837951\n",
       "4       Belltown             2286      2.057272"
      ]
     },
     "execution_count": 39,
     "metadata": {},
     "output_type": "execute_result"
    }
   ],
   "source": [
    "sea_trees.head()"
   ]
  },
  {
   "cell_type": "code",
   "execution_count": 40,
   "metadata": {
    "collapsed": true
   },
   "outputs": [],
   "source": [
    "sea_trees['Tree Density (Trees / sq km)'] = sea_trees['Number of Trees'] / sea_trees['Area (sq km)']"
   ]
  },
  {
   "cell_type": "code",
   "execution_count": 41,
   "metadata": {
    "collapsed": false
   },
   "outputs": [
    {
     "data": {
      "text/html": [
       "<div>\n",
       "<table border=\"1\" class=\"dataframe\">\n",
       "  <thead>\n",
       "    <tr style=\"text-align: right;\">\n",
       "      <th></th>\n",
       "      <th>Neighborhood</th>\n",
       "      <th>Number of Trees</th>\n",
       "      <th>Area (sq km)</th>\n",
       "      <th>Tree Density (Trees / sq km)</th>\n",
       "    </tr>\n",
       "  </thead>\n",
       "  <tbody>\n",
       "    <tr>\n",
       "      <th>0</th>\n",
       "      <td>Adams</td>\n",
       "      <td>2486</td>\n",
       "      <td>3.085047</td>\n",
       "      <td>805.822394</td>\n",
       "    </tr>\n",
       "    <tr>\n",
       "      <th>1</th>\n",
       "      <td>Alki</td>\n",
       "      <td>800</td>\n",
       "      <td>3.374849</td>\n",
       "      <td>237.047635</td>\n",
       "    </tr>\n",
       "    <tr>\n",
       "      <th>2</th>\n",
       "      <td>Arbor Heights</td>\n",
       "      <td>39</td>\n",
       "      <td>3.591894</td>\n",
       "      <td>10.857780</td>\n",
       "    </tr>\n",
       "    <tr>\n",
       "      <th>3</th>\n",
       "      <td>Atlantic</td>\n",
       "      <td>2277</td>\n",
       "      <td>2.837951</td>\n",
       "      <td>802.339512</td>\n",
       "    </tr>\n",
       "    <tr>\n",
       "      <th>4</th>\n",
       "      <td>Belltown</td>\n",
       "      <td>2286</td>\n",
       "      <td>2.057272</td>\n",
       "      <td>1111.180508</td>\n",
       "    </tr>\n",
       "  </tbody>\n",
       "</table>\n",
       "</div>"
      ],
      "text/plain": [
       "    Neighborhood  Number of Trees  Area (sq km)  Tree Density (Trees / sq km)\n",
       "0          Adams             2486      3.085047                    805.822394\n",
       "1           Alki              800      3.374849                    237.047635\n",
       "2  Arbor Heights               39      3.591894                     10.857780\n",
       "3       Atlantic             2277      2.837951                    802.339512\n",
       "4       Belltown             2286      2.057272                   1111.180508"
      ]
     },
     "execution_count": 41,
     "metadata": {},
     "output_type": "execute_result"
    }
   ],
   "source": [
    "sea_trees.head()"
   ]
  },
  {
   "cell_type": "code",
   "execution_count": 29,
   "metadata": {
    "collapsed": false
   },
   "outputs": [
    {
     "data": {
      "text/html": [
       "<div>\n",
       "<table border=\"1\" class=\"dataframe\">\n",
       "  <thead>\n",
       "    <tr style=\"text-align: right;\">\n",
       "      <th></th>\n",
       "      <th>Neighborhood</th>\n",
       "      <th>Number of Trees</th>\n",
       "      <th>Area (sq km)</th>\n",
       "    </tr>\n",
       "    <tr>\n",
       "      <th>Tree Density (Trees / sq km)</th>\n",
       "      <th></th>\n",
       "      <th></th>\n",
       "      <th></th>\n",
       "    </tr>\n",
       "  </thead>\n",
       "  <tbody>\n",
       "    <tr>\n",
       "      <th>955.835277</th>\n",
       "      <td>Portage Bay</td>\n",
       "      <td>581</td>\n",
       "      <td>0.607845</td>\n",
       "    </tr>\n",
       "    <tr>\n",
       "      <th>991.758455</th>\n",
       "      <td>Wallingford</td>\n",
       "      <td>5737</td>\n",
       "      <td>5.784675</td>\n",
       "    </tr>\n",
       "    <tr>\n",
       "      <th>1012.377646</th>\n",
       "      <td>Minor</td>\n",
       "      <td>2494</td>\n",
       "      <td>2.463508</td>\n",
       "    </tr>\n",
       "    <tr>\n",
       "      <th>1028.401479</th>\n",
       "      <td>Mann</td>\n",
       "      <td>1573</td>\n",
       "      <td>1.529558</td>\n",
       "    </tr>\n",
       "    <tr>\n",
       "      <th>1034.278426</th>\n",
       "      <td>Stevens</td>\n",
       "      <td>3701</td>\n",
       "      <td>3.578340</td>\n",
       "    </tr>\n",
       "    <tr>\n",
       "      <th>1063.560198</th>\n",
       "      <td>Whittier Heights</td>\n",
       "      <td>2077</td>\n",
       "      <td>1.952875</td>\n",
       "    </tr>\n",
       "    <tr>\n",
       "      <th>1111.180508</th>\n",
       "      <td>Belltown</td>\n",
       "      <td>2286</td>\n",
       "      <td>2.057272</td>\n",
       "    </tr>\n",
       "    <tr>\n",
       "      <th>1111.305463</th>\n",
       "      <td>First Hill</td>\n",
       "      <td>1453</td>\n",
       "      <td>1.307471</td>\n",
       "    </tr>\n",
       "    <tr>\n",
       "      <th>1173.713818</th>\n",
       "      <td>Lower Queen Anne</td>\n",
       "      <td>2825</td>\n",
       "      <td>2.406890</td>\n",
       "    </tr>\n",
       "    <tr>\n",
       "      <th>1276.699484</th>\n",
       "      <td>Holly Park</td>\n",
       "      <td>1479</td>\n",
       "      <td>1.158456</td>\n",
       "    </tr>\n",
       "  </tbody>\n",
       "</table>\n",
       "</div>"
      ],
      "text/plain": [
       "                                  Neighborhood  Number of Trees  Area (sq km)\n",
       "Tree Density (Trees / sq km)                                                 \n",
       "955.835277                         Portage Bay              581      0.607845\n",
       "991.758455                         Wallingford             5737      5.784675\n",
       "1012.377646                              Minor             2494      2.463508\n",
       "1028.401479                               Mann             1573      1.529558\n",
       "1034.278426                            Stevens             3701      3.578340\n",
       "1063.560198                   Whittier Heights             2077      1.952875\n",
       "1111.180508                           Belltown             2286      2.057272\n",
       "1111.305463                         First Hill             1453      1.307471\n",
       "1173.713818                   Lower Queen Anne             2825      2.406890\n",
       "1276.699484                         Holly Park             1479      1.158456"
      ]
     },
     "execution_count": 29,
     "metadata": {},
     "output_type": "execute_result"
    }
   ],
   "source": [
    "sea_trees.groupby(sea_trees['Tree Density (Trees / sq km)']).max().tail(10)"
   ]
  },
  {
   "cell_type": "code",
   "execution_count": 42,
   "metadata": {
    "collapsed": true
   },
   "outputs": [],
   "source": [
    "sea_trees = pd.read_csv('../data/tree_densities_Seattle.csv')\n",
    "sf_trees = pd.read_csv('../data/tree_densities_SF.csv')"
   ]
  },
  {
   "cell_type": "code",
   "execution_count": 44,
   "metadata": {
    "collapsed": false
   },
   "outputs": [
    {
     "data": {
      "text/html": [
       "<div>\n",
       "<table border=\"1\" class=\"dataframe\">\n",
       "  <thead>\n",
       "    <tr style=\"text-align: right;\">\n",
       "      <th></th>\n",
       "      <th>Neighborhood</th>\n",
       "      <th>Tree Density (Trees / sq km)</th>\n",
       "    </tr>\n",
       "  </thead>\n",
       "  <tbody>\n",
       "    <tr>\n",
       "      <th>0</th>\n",
       "      <td>Alamo Square</td>\n",
       "      <td>1403.863583</td>\n",
       "    </tr>\n",
       "    <tr>\n",
       "      <th>1</th>\n",
       "      <td>Anza Vista</td>\n",
       "      <td>1128.401692</td>\n",
       "    </tr>\n",
       "    <tr>\n",
       "      <th>2</th>\n",
       "      <td>Balboa Terrace</td>\n",
       "      <td>981.679913</td>\n",
       "    </tr>\n",
       "    <tr>\n",
       "      <th>3</th>\n",
       "      <td>Bayview</td>\n",
       "      <td>591.854865</td>\n",
       "    </tr>\n",
       "    <tr>\n",
       "      <th>4</th>\n",
       "      <td>Bayview Heights</td>\n",
       "      <td>325.368159</td>\n",
       "    </tr>\n",
       "  </tbody>\n",
       "</table>\n",
       "</div>"
      ],
      "text/plain": [
       "      Neighborhood  Tree Density (Trees / sq km)\n",
       "0     Alamo Square                   1403.863583\n",
       "1       Anza Vista                   1128.401692\n",
       "2   Balboa Terrace                    981.679913\n",
       "3          Bayview                    591.854865\n",
       "4  Bayview Heights                    325.368159"
      ]
     },
     "execution_count": 44,
     "metadata": {},
     "output_type": "execute_result"
    }
   ],
   "source": [
    "sf_trees.head()"
   ]
  },
  {
   "cell_type": "markdown",
   "metadata": {},
   "source": [
    "<h3>Can we get a cosine similarity between neighborhoods with a single feature? Mathematically, yes, but it won't be useful since the 'angle' between the vectors will be the same. Let's look at both tree density and walk score for a general 'stroll enjoyment' feature.</h3>"
   ]
  },
  {
   "cell_type": "code",
   "execution_count": 60,
   "metadata": {
    "collapsed": false
   },
   "outputs": [
    {
     "name": "stdout",
     "output_type": "stream",
     "text": [
      "<type 'numpy.ndarray'> <type 'numpy.ndarray'> [[ 1.]]\n"
     ]
    }
   ],
   "source": [
    "sea_hood = np.array(sea_trees['Tree Density (Trees / sq km)'][0])\n",
    "sf_hood = np.array(sf_trees['Tree Density (Trees / sq km)'][10])\n",
    "#input_hood = np.array(test_hood)\n",
    "print type(sea_hood), type(sf_hood), cosine_similarity(sea_hood, sf_hood)"
   ]
  },
  {
   "cell_type": "code",
   "execution_count": 47,
   "metadata": {
    "collapsed": false
   },
   "outputs": [],
   "source": [
    "def convert_hood_to_array(input_hood):\n",
    "    # convert to numpy array in format needed for cosine similarity comparison\n",
    "    input_hood = np.array(input_hood)[0][1:]\n",
    "    input_hood = input_hood.reshape(1, -1)\n",
    "    return input_hood\n",
    "\n",
    "\n",
    "\n",
    "def compare_hood_to_all_city_hoods(input_hood, hood_city_df, comparison_city_df, input_dict):\n",
    "    hood1 = hood_city_df.loc[hood_city_df['Neighborhood'] == input_hood]\n",
    "    hood1 = convert_hood_to_array(hood1)\n",
    "    for hood in comparison_city_df['Neighborhood']:\n",
    "        hood2 = comparison_city_df.loc[comparison_city_df['hood'] == hood]\n",
    "        hood2 = convert_hood_to_array(hood2)\n",
    "        if input_hood not in input_dict:\n",
    "            input_dict[input_hood] = {}\n",
    "            input_dict[input_hood][hood] = cosine_similarity(hood1, hood2)[0][0]\n",
    "        else:\n",
    "            input_dict[input_hood][hood] = cosine_similarity(hood1, hood2)[0][0]\n",
    "    return input_dict\n",
    "\n",
    "# comparisons = {}\n",
    "# for hood in sea_trees['Neighborhood']:\n",
    "#     compare_hood_to_all_city_hoods(hood, sea_trees, sf_trees, comparisons)\n",
    "# for hood in sf_trees['Neighborhood']:\n",
    "#     compare_hood_to_all_city_hoods(hood, sf_trees, sea_trees, comparisons)"
   ]
  },
  {
   "cell_type": "code",
   "execution_count": null,
   "metadata": {
    "collapsed": true
   },
   "outputs": [],
   "source": []
  }
 ],
 "metadata": {
  "kernelspec": {
   "display_name": "Python 2",
   "language": "python",
   "name": "python2"
  },
  "language_info": {
   "codemirror_mode": {
    "name": "ipython",
    "version": 2
   },
   "file_extension": ".py",
   "mimetype": "text/x-python",
   "name": "python",
   "nbconvert_exporter": "python",
   "pygments_lexer": "ipython2",
   "version": "2.7.11"
  }
 },
 "nbformat": 4,
 "nbformat_minor": 0
}
