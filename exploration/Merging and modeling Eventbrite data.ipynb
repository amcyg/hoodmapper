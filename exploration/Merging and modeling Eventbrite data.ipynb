{
 "cells": [
  {
   "cell_type": "code",
   "execution_count": 36,
   "metadata": {
    "collapsed": true
   },
   "outputs": [],
   "source": [
    "import pandas as pd\n",
    "import numpy as np\n",
    "import shapefile"
   ]
  },
  {
   "cell_type": "markdown",
   "metadata": {},
   "source": [
    "<h3>We want to keep Seattle + SF data separate to prevent extra work (i.e. no comparisons between neighborhoods in the same city are necessary). </h3>"
   ]
  },
  {
   "cell_type": "code",
   "execution_count": 6,
   "metadata": {
    "collapsed": true
   },
   "outputs": [],
   "source": [
    "# Open datasets\n",
    "sf_categories = pd.read_csv(open('../data/eventbrite_SF_categories.csv'))\n",
    "sf_subcats = pd.read_csv(open('../data/eventbrite_SF_subcats.csv'))\n",
    "sea_categories = pd.read_csv(open('../data/eventbrite_Seattle_categories.csv'))\n",
    "sea_subcats = pd.read_csv(open('../data/eventbrite_Seattle_subcats.csv'))"
   ]
  },
  {
   "cell_type": "code",
   "execution_count": 12,
   "metadata": {
    "collapsed": false
   },
   "outputs": [],
   "source": [
    "# Merge datasets by city\n",
    "sf_merged = sf_categories.merge(sf_subcats, on='hood', how='outer')\n",
    "sea_merged = sea_categories.merge(sea_subcats, on='hood', how='outer')"
   ]
  },
  {
   "cell_type": "markdown",
   "metadata": {},
   "source": [
    "<h3>Q: Do the categories and sub-categories in each city match? (Are there any missing columns?)\n",
    "<br>A: No - SF has 128, Seattle has 98. Unclear if categories themselves mix/match.</h3>"
   ]
  },
  {
   "cell_type": "code",
   "execution_count": 14,
   "metadata": {
    "collapsed": false
   },
   "outputs": [
    {
     "data": {
      "text/plain": [
       "128"
      ]
     },
     "execution_count": 14,
     "metadata": {},
     "output_type": "execute_result"
    }
   ],
   "source": [
    "len(sf_merged.columns)"
   ]
  },
  {
   "cell_type": "code",
   "execution_count": 15,
   "metadata": {
    "collapsed": false
   },
   "outputs": [
    {
     "data": {
      "text/plain": [
       "98"
      ]
     },
     "execution_count": 15,
     "metadata": {},
     "output_type": "execute_result"
    }
   ],
   "source": [
    "len(sea_merged.columns)"
   ]
  },
  {
   "cell_type": "markdown",
   "metadata": {},
   "source": [
    "<h3>To create comparable vectors, columns must match. Time to fill in missing columns in each set.</h3>"
   ]
  },
  {
   "cell_type": "code",
   "execution_count": 22,
   "metadata": {
    "collapsed": false
   },
   "outputs": [
    {
     "name": "stdout",
     "output_type": "stream",
     "text": [
      "['Accessories', 'Adult', 'Animal Welfare', 'Anime/Comics', 'Ballet', 'Boat', 'Books', 'Bridal', 'Buddhism', 'Country', 'County/Municipal Government ', 'Eastern Religion', 'Exercise', 'Federal Government', 'Fighting & Martial Arts', 'Folk', 'Halloween/Haunt', 'Independence Day', 'Indie', 'Latin', 'Literary Arts', 'Media', 'Medicine', 'Musical', 'New Years Eve', 'Opera', 'Other Party', 'Reggae', 'Robotics', 'Rock', 'State', 'Swimming & Water Sports', 'TV', 'Theatre', 'Top 40', 'Walking']\n",
      "['Climbing', 'Kayaking', 'Real Estate', 'Renaissance', 'Soccer', 'Tennis']\n"
     ]
    }
   ],
   "source": [
    "sf_columns = []\n",
    "sea_columns = []\n",
    "missing_in_sea = []\n",
    "missing_in_sf = []\n",
    "\n",
    "for column in sf_merged.columns:\n",
    "    sf_columns.append(column)\n",
    "    \n",
    "for column in sea_merged.columns:\n",
    "    sea_columns.append(column)\n",
    "    \n",
    "for item in sf_columns:\n",
    "    if item not in sea_columns:\n",
    "        missing_in_sea.append(item)\n",
    "        \n",
    "for item in sea_columns:\n",
    "    if item not in sf_columns:\n",
    "        missing_in_sf.append(item)\n",
    "        \n",
    "print missing_in_sea\n",
    "print missing_in_sf"
   ]
  },
  {
   "cell_type": "code",
   "execution_count": 31,
   "metadata": {
    "collapsed": false
   },
   "outputs": [
    {
     "data": {
      "text/html": [
       "<div>\n",
       "<table border=\"1\" class=\"dataframe\">\n",
       "  <thead>\n",
       "    <tr style=\"text-align: right;\">\n",
       "      <th></th>\n",
       "      <th>hood</th>\n",
       "      <th>Arts</th>\n",
       "      <th>Auto, Boat &amp; Air</th>\n",
       "      <th>Business</th>\n",
       "      <th>Charity &amp; Causes</th>\n",
       "      <th>Community</th>\n",
       "      <th>Family &amp; Education</th>\n",
       "      <th>Fashion_x</th>\n",
       "      <th>Film &amp; Media</th>\n",
       "      <th>Food &amp; Drink</th>\n",
       "      <th>...</th>\n",
       "      <th>Travel</th>\n",
       "      <th>Walking</th>\n",
       "      <th>Wine</th>\n",
       "      <th>Yoga</th>\n",
       "      <th>Climbing</th>\n",
       "      <th>Kayaking</th>\n",
       "      <th>Real Estate</th>\n",
       "      <th>Renaissance</th>\n",
       "      <th>Soccer</th>\n",
       "      <th>Tennis</th>\n",
       "    </tr>\n",
       "  </thead>\n",
       "  <tbody>\n",
       "    <tr>\n",
       "      <th>0</th>\n",
       "      <td>Alamo Square</td>\n",
       "      <td>0</td>\n",
       "      <td>0</td>\n",
       "      <td>0</td>\n",
       "      <td>1</td>\n",
       "      <td>0</td>\n",
       "      <td>0</td>\n",
       "      <td>0</td>\n",
       "      <td>0</td>\n",
       "      <td>0</td>\n",
       "      <td>...</td>\n",
       "      <td>0.0</td>\n",
       "      <td>0.0</td>\n",
       "      <td>0.0</td>\n",
       "      <td>0.0</td>\n",
       "      <td>0</td>\n",
       "      <td>0</td>\n",
       "      <td>0</td>\n",
       "      <td>0</td>\n",
       "      <td>0</td>\n",
       "      <td>0</td>\n",
       "    </tr>\n",
       "    <tr>\n",
       "      <th>1</th>\n",
       "      <td>Bayview</td>\n",
       "      <td>7</td>\n",
       "      <td>0</td>\n",
       "      <td>0</td>\n",
       "      <td>0</td>\n",
       "      <td>0</td>\n",
       "      <td>0</td>\n",
       "      <td>0</td>\n",
       "      <td>0</td>\n",
       "      <td>0</td>\n",
       "      <td>...</td>\n",
       "      <td>0.0</td>\n",
       "      <td>0.0</td>\n",
       "      <td>0.0</td>\n",
       "      <td>0.0</td>\n",
       "      <td>0</td>\n",
       "      <td>0</td>\n",
       "      <td>0</td>\n",
       "      <td>0</td>\n",
       "      <td>0</td>\n",
       "      <td>0</td>\n",
       "    </tr>\n",
       "    <tr>\n",
       "      <th>2</th>\n",
       "      <td>Bernal Heights</td>\n",
       "      <td>0</td>\n",
       "      <td>0</td>\n",
       "      <td>1</td>\n",
       "      <td>2</td>\n",
       "      <td>0</td>\n",
       "      <td>3</td>\n",
       "      <td>0</td>\n",
       "      <td>0</td>\n",
       "      <td>0</td>\n",
       "      <td>...</td>\n",
       "      <td>0.0</td>\n",
       "      <td>0.0</td>\n",
       "      <td>0.0</td>\n",
       "      <td>1.0</td>\n",
       "      <td>0</td>\n",
       "      <td>0</td>\n",
       "      <td>0</td>\n",
       "      <td>0</td>\n",
       "      <td>0</td>\n",
       "      <td>0</td>\n",
       "    </tr>\n",
       "    <tr>\n",
       "      <th>3</th>\n",
       "      <td>Central Richmond</td>\n",
       "      <td>1</td>\n",
       "      <td>0</td>\n",
       "      <td>0</td>\n",
       "      <td>1</td>\n",
       "      <td>0</td>\n",
       "      <td>0</td>\n",
       "      <td>0</td>\n",
       "      <td>0</td>\n",
       "      <td>0</td>\n",
       "      <td>...</td>\n",
       "      <td>0.0</td>\n",
       "      <td>0.0</td>\n",
       "      <td>0.0</td>\n",
       "      <td>0.0</td>\n",
       "      <td>0</td>\n",
       "      <td>0</td>\n",
       "      <td>0</td>\n",
       "      <td>0</td>\n",
       "      <td>0</td>\n",
       "      <td>0</td>\n",
       "    </tr>\n",
       "    <tr>\n",
       "      <th>4</th>\n",
       "      <td>Central Sunset</td>\n",
       "      <td>0</td>\n",
       "      <td>0</td>\n",
       "      <td>0</td>\n",
       "      <td>0</td>\n",
       "      <td>0</td>\n",
       "      <td>0</td>\n",
       "      <td>0</td>\n",
       "      <td>0</td>\n",
       "      <td>0</td>\n",
       "      <td>...</td>\n",
       "      <td>0.0</td>\n",
       "      <td>0.0</td>\n",
       "      <td>0.0</td>\n",
       "      <td>0.0</td>\n",
       "      <td>0</td>\n",
       "      <td>0</td>\n",
       "      <td>0</td>\n",
       "      <td>0</td>\n",
       "      <td>0</td>\n",
       "      <td>0</td>\n",
       "    </tr>\n",
       "  </tbody>\n",
       "</table>\n",
       "<p>5 rows × 134 columns</p>\n",
       "</div>"
      ],
      "text/plain": [
       "               hood  Arts  Auto, Boat & Air  Business  Charity & Causes  \\\n",
       "0      Alamo Square     0                 0         0                 1   \n",
       "1           Bayview     7                 0         0                 0   \n",
       "2    Bernal Heights     0                 0         1                 2   \n",
       "3  Central Richmond     1                 0         0                 1   \n",
       "4    Central Sunset     0                 0         0                 0   \n",
       "\n",
       "   Community  Family & Education  Fashion_x  Film & Media  Food & Drink  \\\n",
       "0          0                   0          0             0             0   \n",
       "1          0                   0          0             0             0   \n",
       "2          0                   3          0             0             0   \n",
       "3          0                   0          0             0             0   \n",
       "4          0                   0          0             0             0   \n",
       "\n",
       "    ...    Travel  Walking  Wine  Yoga  Climbing  Kayaking  Real Estate  \\\n",
       "0   ...       0.0      0.0   0.0   0.0         0         0            0   \n",
       "1   ...       0.0      0.0   0.0   0.0         0         0            0   \n",
       "2   ...       0.0      0.0   0.0   1.0         0         0            0   \n",
       "3   ...       0.0      0.0   0.0   0.0         0         0            0   \n",
       "4   ...       0.0      0.0   0.0   0.0         0         0            0   \n",
       "\n",
       "   Renaissance  Soccer  Tennis  \n",
       "0            0       0       0  \n",
       "1            0       0       0  \n",
       "2            0       0       0  \n",
       "3            0       0       0  \n",
       "4            0       0       0  \n",
       "\n",
       "[5 rows x 134 columns]"
      ]
     },
     "execution_count": 31,
     "metadata": {},
     "output_type": "execute_result"
    }
   ],
   "source": [
    "# Add missing columns to each merged df as needed\n",
    "for item in missing_in_sea:\n",
    "    sea_merged[item] = 0\n",
    "\n",
    "for item in missing_in_sf:\n",
    "    sf_merged[item] = 0\n",
    "    \n",
    "sf_merged.head()"
   ]
  },
  {
   "cell_type": "code",
   "execution_count": 32,
   "metadata": {
    "collapsed": false
   },
   "outputs": [
    {
     "data": {
      "text/plain": [
       "True"
      ]
     },
     "execution_count": 32,
     "metadata": {},
     "output_type": "execute_result"
    }
   ],
   "source": [
    "# Check to see if the number of columns in each city's dataset are equal\n",
    "len(sf_merged.columns) == len(sea_merged.columns)"
   ]
  },
  {
   "cell_type": "markdown",
   "metadata": {},
   "source": [
    "<h3>Uh oh, the shape of our dfs look suspicious. Not all neighborhoods appear to be represented.\n",
    "<br>Let's add the missing neighborhoods to each df (with rows full of zeroes, since no events were recorded).\n",
    "<br>While this doesn't matter for Eventbrite data, it WILL matter for our final data merging script.</h3>"
   ]
  },
  {
   "cell_type": "code",
   "execution_count": 33,
   "metadata": {
    "collapsed": false
   },
   "outputs": [
    {
     "data": {
      "text/plain": [
       "(66, 134)"
      ]
     },
     "execution_count": 33,
     "metadata": {},
     "output_type": "execute_result"
    }
   ],
   "source": [
    "sf_merged.shape"
   ]
  },
  {
   "cell_type": "code",
   "execution_count": 34,
   "metadata": {
    "collapsed": false
   },
   "outputs": [
    {
     "data": {
      "text/plain": [
       "66"
      ]
     },
     "execution_count": 34,
     "metadata": {},
     "output_type": "execute_result"
    }
   ],
   "source": [
    "len(sf_merged['hood'])"
   ]
  },
  {
   "cell_type": "code",
   "execution_count": 38,
   "metadata": {
    "collapsed": false
   },
   "outputs": [],
   "source": [
    "# Import shape files\n",
    "sf_shapefile = shapefile.Reader('../downloads/sf_neighborhoods/geo_export_197f44fb-6cc0-472b-81f7-347deefb57df')\n",
    "sea_shapefile = shapefile.Reader('../downloads/seattle_neighborhoods/Neighborhoods')"
   ]
  },
  {
   "cell_type": "code",
   "execution_count": 39,
   "metadata": {
    "collapsed": true
   },
   "outputs": [],
   "source": [
    "# Grab the records from each polygon shape to get the list of all neighborhoods\n",
    "sf_records = sf_shapefile.records()\n",
    "sea_records = sea_shapefile.records()"
   ]
  },
  {
   "cell_type": "code",
   "execution_count": 41,
   "metadata": {
    "collapsed": false
   },
   "outputs": [
    {
     "name": "stdout",
     "output_type": "stream",
     "text": [
      "['Loyal Heights', 'Adams', 'Whittier Heights', 'West Woodland', 'Phinney Ridge', 'Wallingford', 'Fremont', 'Green Lake', 'View Ridge', 'Ravenna', 'Sand Point', 'Bryant', 'Windermere', 'Laurelhurst', 'Roosevelt', 'University District', 'East Queen Anne', 'West Queen Anne', 'Lower Queen Anne', 'North Queen Anne', 'Westlake', 'Eastlake', 'South Lake Union', 'Lawton Park', 'Briarcliff', 'Southeast Magnolia', 'Madrona', 'Harrison/Denny-Blaine', 'Minor', 'Leschi', 'Mann', 'Atlantic', 'Pike-Market', 'Belltown', 'International District', 'Central Business District', 'First Hill', 'Yesler Terrace', 'Pioneer Square', 'Interbay', 'Industrial District', 'Georgetown', 'South Park', 'Harbor Island', 'Seaview', 'Gatewood', 'Arbor Heights', 'Alki', 'North Admiral', 'Fairmount Park', 'Genesee', 'Fauntleroy', 'North Beacon Hill', 'Mid-Beacon Hill', 'South Beacon Hill', 'Holly Park', 'Brighton', 'Dunlap', 'Rainier Beach', 'Rainier View', 'Mount Baker', 'Columbia City', 'Highland Park', 'North Delridge', 'Riverview', 'High Point', 'South Delridge', 'Roxhill', 'Seward Park', 'Wedgwood', 'Portage Bay', 'Montlake', 'Madison Park', 'Broadway', 'Stevens', 'Victory Heights', 'Matthews Beach', 'Meadowbrook', 'Olympic Hills', 'Cedar Park', 'Industrial District', 'Broadview', 'Bitter Lake', 'Haller Lake', 'Pinehurst', 'North Beach/Blue Ridge', 'North College Park', 'Maple Leaf', 'Crown Hill', 'Greenwood', 'Sunset Hill']\n"
     ]
    }
   ],
   "source": [
    "sf_neighborhoods = []\n",
    "for record in sf_records:\n",
    "    sf_neighborhoods.append(record[2])\n",
    "\n",
    "sea_neighborhoods = []\n",
    "for record in sea_records:\n",
    "    if record[5] != 'OOO' and record[5][1] != ' ':\n",
    "        sea_neighborhoods.append(record[5])"
   ]
  },
  {
   "cell_type": "code",
   "execution_count": 55,
   "metadata": {
    "collapsed": false
   },
   "outputs": [
    {
     "name": "stdout",
     "output_type": "stream",
     "text": [
      "Loyal Heights\n",
      "Loyal Heights\n"
     ]
    }
   ],
   "source": [
    "# Check to see which neighborhoods are missing and add them to a missing list\n",
    "# for item in sea_neighborhoods:\n",
    "    # if item not in sea_merged.hood:\n",
    "        # print item\n",
    "        \n",
    "print sea_merged.hood[32]\n",
    "print sea_neighborhoods[0]"
   ]
  },
  {
   "cell_type": "code",
   "execution_count": 56,
   "metadata": {
    "collapsed": false
   },
   "outputs": [
    {
     "data": {
      "text/plain": [
       "True"
      ]
     },
     "execution_count": 56,
     "metadata": {},
     "output_type": "execute_result"
    }
   ],
   "source": [
    "sea_merged.hood[32] == sea_neighborhoods[0]"
   ]
  },
  {
   "cell_type": "code",
   "execution_count": 64,
   "metadata": {
    "collapsed": false
   },
   "outputs": [],
   "source": [
    "sea_current_hoods = set(sea_merged.hood)\n",
    "sf_current_hoods = set(sf_merged.hood)"
   ]
  },
  {
   "cell_type": "code",
   "execution_count": 66,
   "metadata": {
    "collapsed": false
   },
   "outputs": [],
   "source": [
    "sea_missing_hoods = []\n",
    "for item in sea_neighborhoods:\n",
    "    if item not in sea_current_hoods:\n",
    "        sea_missing_hoods.append(item)\n",
    "        \n",
    "sf_missing_hoods = []\n",
    "for item in sf_neighborhoods:\n",
    "    if item not in sf_current_hoods:\n",
    "        sf_missing_hoods.append(item)"
   ]
  },
  {
   "cell_type": "code",
   "execution_count": 69,
   "metadata": {
    "collapsed": false
   },
   "outputs": [],
   "source": [
    "# Add missing neighborhoods to each city's data set\n"
   ]
  },
  {
   "cell_type": "code",
   "execution_count": 72,
   "metadata": {
    "collapsed": false
   },
   "outputs": [
    {
     "data": {
      "text/html": [
       "<div>\n",
       "<table border=\"1\" class=\"dataframe\">\n",
       "  <thead>\n",
       "    <tr style=\"text-align: right;\">\n",
       "      <th></th>\n",
       "      <th>hood</th>\n",
       "      <th>Arts</th>\n",
       "      <th>Auto, Boat &amp; Air</th>\n",
       "      <th>Business</th>\n",
       "      <th>Charity &amp; Causes</th>\n",
       "      <th>Community</th>\n",
       "      <th>Family &amp; Education</th>\n",
       "      <th>Fashion_x</th>\n",
       "      <th>Film &amp; Media</th>\n",
       "      <th>Food &amp; Drink</th>\n",
       "      <th>...</th>\n",
       "      <th>Travel</th>\n",
       "      <th>Walking</th>\n",
       "      <th>Wine</th>\n",
       "      <th>Yoga</th>\n",
       "      <th>Climbing</th>\n",
       "      <th>Kayaking</th>\n",
       "      <th>Real Estate</th>\n",
       "      <th>Renaissance</th>\n",
       "      <th>Soccer</th>\n",
       "      <th>Tennis</th>\n",
       "    </tr>\n",
       "  </thead>\n",
       "  <tbody>\n",
       "    <tr>\n",
       "      <th>64</th>\n",
       "      <td>Western Addition</td>\n",
       "      <td>0</td>\n",
       "      <td>0</td>\n",
       "      <td>4</td>\n",
       "      <td>2</td>\n",
       "      <td>0</td>\n",
       "      <td>5</td>\n",
       "      <td>0</td>\n",
       "      <td>0</td>\n",
       "      <td>0</td>\n",
       "      <td>...</td>\n",
       "      <td>0.0</td>\n",
       "      <td>0.0</td>\n",
       "      <td>0.0</td>\n",
       "      <td>0.0</td>\n",
       "      <td>0</td>\n",
       "      <td>0</td>\n",
       "      <td>0</td>\n",
       "      <td>0</td>\n",
       "      <td>0</td>\n",
       "      <td>0</td>\n",
       "    </tr>\n",
       "    <tr>\n",
       "      <th>65</th>\n",
       "      <td>Yerba Buena</td>\n",
       "      <td>9</td>\n",
       "      <td>1</td>\n",
       "      <td>159</td>\n",
       "      <td>10</td>\n",
       "      <td>9</td>\n",
       "      <td>6</td>\n",
       "      <td>3</td>\n",
       "      <td>12</td>\n",
       "      <td>7</td>\n",
       "      <td>...</td>\n",
       "      <td>0.0</td>\n",
       "      <td>0.0</td>\n",
       "      <td>1.0</td>\n",
       "      <td>1.0</td>\n",
       "      <td>0</td>\n",
       "      <td>0</td>\n",
       "      <td>0</td>\n",
       "      <td>0</td>\n",
       "      <td>0</td>\n",
       "      <td>0</td>\n",
       "    </tr>\n",
       "  </tbody>\n",
       "</table>\n",
       "<p>2 rows × 134 columns</p>\n",
       "</div>"
      ],
      "text/plain": [
       "                hood  Arts  Auto, Boat & Air  Business  Charity & Causes  \\\n",
       "64  Western Addition     0                 0         4                 2   \n",
       "65       Yerba Buena     9                 1       159                10   \n",
       "\n",
       "    Community  Family & Education  Fashion_x  Film & Media  Food & Drink  \\\n",
       "64          0                   5          0             0             0   \n",
       "65          9                   6          3            12             7   \n",
       "\n",
       "     ...    Travel  Walking  Wine  Yoga  Climbing  Kayaking  Real Estate  \\\n",
       "64   ...       0.0      0.0   0.0   0.0         0         0            0   \n",
       "65   ...       0.0      0.0   1.0   1.0         0         0            0   \n",
       "\n",
       "    Renaissance  Soccer  Tennis  \n",
       "64            0       0       0  \n",
       "65            0       0       0  \n",
       "\n",
       "[2 rows x 134 columns]"
      ]
     },
     "execution_count": 72,
     "metadata": {},
     "output_type": "execute_result"
    }
   ],
   "source": [
    "sf_merged.tail(2)"
   ]
  },
  {
   "cell_type": "code",
   "execution_count": 85,
   "metadata": {
    "collapsed": false
   },
   "outputs": [
    {
     "name": "stderr",
     "output_type": "stream",
     "text": [
      "/Users/amcyg/anaconda/lib/python2.7/site-packages/ipykernel/__main__.py:2: SettingWithCopyWarning: \n",
      "A value is trying to be set on a copy of a slice from a DataFrame\n",
      "\n",
      "See the caveats in the documentation: http://pandas.pydata.org/pandas-docs/stable/indexing.html#indexing-view-versus-copy\n",
      "  from ipykernel import kernelapp as app\n"
     ]
    },
    {
     "data": {
      "text/html": [
       "<div>\n",
       "<table border=\"1\" class=\"dataframe\">\n",
       "  <thead>\n",
       "    <tr style=\"text-align: right;\">\n",
       "      <th></th>\n",
       "      <th>hood</th>\n",
       "      <th>Arts</th>\n",
       "      <th>Auto, Boat &amp; Air</th>\n",
       "      <th>Business</th>\n",
       "      <th>Charity &amp; Causes</th>\n",
       "      <th>Community</th>\n",
       "      <th>Family &amp; Education</th>\n",
       "      <th>Fashion_x</th>\n",
       "      <th>Film &amp; Media</th>\n",
       "      <th>Food &amp; Drink</th>\n",
       "      <th>...</th>\n",
       "      <th>Travel</th>\n",
       "      <th>Walking</th>\n",
       "      <th>Wine</th>\n",
       "      <th>Yoga</th>\n",
       "      <th>Climbing</th>\n",
       "      <th>Kayaking</th>\n",
       "      <th>Real Estate</th>\n",
       "      <th>Renaissance</th>\n",
       "      <th>Soccer</th>\n",
       "      <th>Tennis</th>\n",
       "    </tr>\n",
       "  </thead>\n",
       "  <tbody>\n",
       "    <tr>\n",
       "      <th>65</th>\n",
       "      <td>Yerba Buena</td>\n",
       "      <td>9</td>\n",
       "      <td>1</td>\n",
       "      <td>159</td>\n",
       "      <td>10</td>\n",
       "      <td>9</td>\n",
       "      <td>6</td>\n",
       "      <td>3</td>\n",
       "      <td>12</td>\n",
       "      <td>7</td>\n",
       "      <td>...</td>\n",
       "      <td>0.0</td>\n",
       "      <td>0.0</td>\n",
       "      <td>1.0</td>\n",
       "      <td>1.0</td>\n",
       "      <td>0</td>\n",
       "      <td>0</td>\n",
       "      <td>0</td>\n",
       "      <td>0</td>\n",
       "      <td>0</td>\n",
       "      <td>0</td>\n",
       "    </tr>\n",
       "    <tr>\n",
       "      <th>test</th>\n",
       "      <td>0</td>\n",
       "      <td>0</td>\n",
       "      <td>0</td>\n",
       "      <td>0</td>\n",
       "      <td>0</td>\n",
       "      <td>0</td>\n",
       "      <td>0</td>\n",
       "      <td>0</td>\n",
       "      <td>0</td>\n",
       "      <td>0</td>\n",
       "      <td>...</td>\n",
       "      <td>0.0</td>\n",
       "      <td>0.0</td>\n",
       "      <td>0.0</td>\n",
       "      <td>0.0</td>\n",
       "      <td>0</td>\n",
       "      <td>0</td>\n",
       "      <td>0</td>\n",
       "      <td>0</td>\n",
       "      <td>0</td>\n",
       "      <td>0</td>\n",
       "    </tr>\n",
       "    <tr>\n",
       "      <th>67</th>\n",
       "      <td>0</td>\n",
       "      <td>0</td>\n",
       "      <td>0</td>\n",
       "      <td>0</td>\n",
       "      <td>0</td>\n",
       "      <td>0</td>\n",
       "      <td>0</td>\n",
       "      <td>0</td>\n",
       "      <td>0</td>\n",
       "      <td>0</td>\n",
       "      <td>...</td>\n",
       "      <td>0.0</td>\n",
       "      <td>0.0</td>\n",
       "      <td>0.0</td>\n",
       "      <td>0.0</td>\n",
       "      <td>0</td>\n",
       "      <td>0</td>\n",
       "      <td>0</td>\n",
       "      <td>0</td>\n",
       "      <td>0</td>\n",
       "      <td>0</td>\n",
       "    </tr>\n",
       "    <tr>\n",
       "      <th>68</th>\n",
       "      <td>0</td>\n",
       "      <td>0</td>\n",
       "      <td>0</td>\n",
       "      <td>0</td>\n",
       "      <td>0</td>\n",
       "      <td>0</td>\n",
       "      <td>0</td>\n",
       "      <td>0</td>\n",
       "      <td>0</td>\n",
       "      <td>0</td>\n",
       "      <td>...</td>\n",
       "      <td>0.0</td>\n",
       "      <td>0.0</td>\n",
       "      <td>0.0</td>\n",
       "      <td>0.0</td>\n",
       "      <td>0</td>\n",
       "      <td>0</td>\n",
       "      <td>0</td>\n",
       "      <td>0</td>\n",
       "      <td>0</td>\n",
       "      <td>0</td>\n",
       "    </tr>\n",
       "    <tr>\n",
       "      <th>69</th>\n",
       "      <td>0</td>\n",
       "      <td>0</td>\n",
       "      <td>0</td>\n",
       "      <td>0</td>\n",
       "      <td>0</td>\n",
       "      <td>0</td>\n",
       "      <td>0</td>\n",
       "      <td>0</td>\n",
       "      <td>0</td>\n",
       "      <td>0</td>\n",
       "      <td>...</td>\n",
       "      <td>0.0</td>\n",
       "      <td>0.0</td>\n",
       "      <td>0.0</td>\n",
       "      <td>0.0</td>\n",
       "      <td>0</td>\n",
       "      <td>0</td>\n",
       "      <td>0</td>\n",
       "      <td>0</td>\n",
       "      <td>0</td>\n",
       "      <td>0</td>\n",
       "    </tr>\n",
       "  </tbody>\n",
       "</table>\n",
       "<p>5 rows × 134 columns</p>\n",
       "</div>"
      ],
      "text/plain": [
       "             hood  Arts  Auto, Boat & Air  Business  Charity & Causes  \\\n",
       "65    Yerba Buena     9                 1       159                10   \n",
       "test            0     0                 0         0                 0   \n",
       "67              0     0                 0         0                 0   \n",
       "68              0     0                 0         0                 0   \n",
       "69              0     0                 0         0                 0   \n",
       "\n",
       "      Community  Family & Education  Fashion_x  Film & Media  Food & Drink  \\\n",
       "65            9                   6          3            12             7   \n",
       "test          0                   0          0             0             0   \n",
       "67            0                   0          0             0             0   \n",
       "68            0                   0          0             0             0   \n",
       "69            0                   0          0             0             0   \n",
       "\n",
       "       ...    Travel  Walking  Wine  Yoga  Climbing  Kayaking  Real Estate  \\\n",
       "65     ...       0.0      0.0   1.0   1.0         0         0            0   \n",
       "test   ...       0.0      0.0   0.0   0.0         0         0            0   \n",
       "67     ...       0.0      0.0   0.0   0.0         0         0            0   \n",
       "68     ...       0.0      0.0   0.0   0.0         0         0            0   \n",
       "69     ...       0.0      0.0   0.0   0.0         0         0            0   \n",
       "\n",
       "      Renaissance  Soccer  Tennis  \n",
       "65              0       0       0  \n",
       "test            0       0       0  \n",
       "67              0       0       0  \n",
       "68              0       0       0  \n",
       "69              0       0       0  \n",
       "\n",
       "[5 rows x 134 columns]"
      ]
     },
     "execution_count": 85,
     "metadata": {},
     "output_type": "execute_result"
    }
   ],
   "source": [
    "sf_merged.loc[len(sf_merged)] = 0\n",
    "sf_merged.loc[(len(sf_merged) - 1)]['hood'] = 'test'\n",
    "sf_merged.tail()\n",
    "                 "
   ]
  },
  {
   "cell_type": "code",
   "execution_count": 78,
   "metadata": {
    "collapsed": false
   },
   "outputs": [
    {
     "data": {
      "text/html": [
       "<div>\n",
       "<table border=\"1\" class=\"dataframe\">\n",
       "  <thead>\n",
       "    <tr style=\"text-align: right;\">\n",
       "      <th></th>\n",
       "      <th>hood</th>\n",
       "      <th>Arts</th>\n",
       "      <th>Auto, Boat &amp; Air</th>\n",
       "      <th>Business</th>\n",
       "      <th>Charity &amp; Causes</th>\n",
       "      <th>Community</th>\n",
       "      <th>Family &amp; Education</th>\n",
       "      <th>Fashion_x</th>\n",
       "      <th>Film &amp; Media</th>\n",
       "      <th>Food &amp; Drink</th>\n",
       "      <th>...</th>\n",
       "      <th>Travel</th>\n",
       "      <th>Walking</th>\n",
       "      <th>Wine</th>\n",
       "      <th>Yoga</th>\n",
       "      <th>Climbing</th>\n",
       "      <th>Kayaking</th>\n",
       "      <th>Real Estate</th>\n",
       "      <th>Renaissance</th>\n",
       "      <th>Soccer</th>\n",
       "      <th>Tennis</th>\n",
       "    </tr>\n",
       "  </thead>\n",
       "  <tbody>\n",
       "    <tr>\n",
       "      <th>64</th>\n",
       "      <td>Western Addition</td>\n",
       "      <td>0</td>\n",
       "      <td>0</td>\n",
       "      <td>4</td>\n",
       "      <td>2</td>\n",
       "      <td>0</td>\n",
       "      <td>5</td>\n",
       "      <td>0</td>\n",
       "      <td>0</td>\n",
       "      <td>0</td>\n",
       "      <td>...</td>\n",
       "      <td>0.0</td>\n",
       "      <td>0.0</td>\n",
       "      <td>0.0</td>\n",
       "      <td>0.0</td>\n",
       "      <td>0</td>\n",
       "      <td>0</td>\n",
       "      <td>0</td>\n",
       "      <td>0</td>\n",
       "      <td>0</td>\n",
       "      <td>0</td>\n",
       "    </tr>\n",
       "    <tr>\n",
       "      <th>65</th>\n",
       "      <td>Yerba Buena</td>\n",
       "      <td>9</td>\n",
       "      <td>1</td>\n",
       "      <td>159</td>\n",
       "      <td>10</td>\n",
       "      <td>9</td>\n",
       "      <td>6</td>\n",
       "      <td>3</td>\n",
       "      <td>12</td>\n",
       "      <td>7</td>\n",
       "      <td>...</td>\n",
       "      <td>0.0</td>\n",
       "      <td>0.0</td>\n",
       "      <td>1.0</td>\n",
       "      <td>1.0</td>\n",
       "      <td>0</td>\n",
       "      <td>0</td>\n",
       "      <td>0</td>\n",
       "      <td>0</td>\n",
       "      <td>0</td>\n",
       "      <td>0</td>\n",
       "    </tr>\n",
       "  </tbody>\n",
       "</table>\n",
       "<p>2 rows × 134 columns</p>\n",
       "</div>"
      ],
      "text/plain": [
       "                hood  Arts  Auto, Boat & Air  Business  Charity & Causes  \\\n",
       "64  Western Addition     0                 0         4                 2   \n",
       "65       Yerba Buena     9                 1       159                10   \n",
       "\n",
       "    Community  Family & Education  Fashion_x  Film & Media  Food & Drink  \\\n",
       "64          0                   5          0             0             0   \n",
       "65          9                   6          3            12             7   \n",
       "\n",
       "     ...    Travel  Walking  Wine  Yoga  Climbing  Kayaking  Real Estate  \\\n",
       "64   ...       0.0      0.0   0.0   0.0         0         0            0   \n",
       "65   ...       0.0      0.0   1.0   1.0         0         0            0   \n",
       "\n",
       "    Renaissance  Soccer  Tennis  \n",
       "64            0       0       0  \n",
       "65            0       0       0  \n",
       "\n",
       "[2 rows x 134 columns]"
      ]
     },
     "execution_count": 78,
     "metadata": {},
     "output_type": "execute_result"
    }
   ],
   "source": [
    "sf_merged.tail(2)"
   ]
  },
  {
   "cell_type": "code",
   "execution_count": 77,
   "metadata": {
    "collapsed": false
   },
   "outputs": [],
   "source": [
    "sf_merged = sf_merged.drop(66, 1)"
   ]
  },
  {
   "cell_type": "code",
   "execution_count": null,
   "metadata": {
    "collapsed": true
   },
   "outputs": [],
   "source": []
  }
 ],
 "metadata": {
  "kernelspec": {
   "display_name": "Python 2",
   "language": "python",
   "name": "python2"
  },
  "language_info": {
   "codemirror_mode": {
    "name": "ipython",
    "version": 2
   },
   "file_extension": ".py",
   "mimetype": "text/x-python",
   "name": "python",
   "nbconvert_exporter": "python",
   "pygments_lexer": "ipython2",
   "version": "2.7.11"
  }
 },
 "nbformat": 4,
 "nbformat_minor": 0
}
