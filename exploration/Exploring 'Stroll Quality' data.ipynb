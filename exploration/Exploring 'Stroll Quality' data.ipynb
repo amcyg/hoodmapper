{
 "cells": [
  {
   "cell_type": "code",
   "execution_count": 13,
   "metadata": {
    "collapsed": true
   },
   "outputs": [],
   "source": [
    "import pandas as pd\n",
    "import numpy as np\n",
    "from sklearn.metrics.pairwise import cosine_similarity\n",
    "pd.set_option('display.max_columns', None)"
   ]
  },
  {
   "cell_type": "code",
   "execution_count": 7,
   "metadata": {
    "collapsed": false
   },
   "outputs": [],
   "source": [
    "# import tree density, walk score, and transit score data for merging\n",
    "tree_density_sf = pd.read_csv('../data/tree_densities_SF.csv')\n",
    "tree_density_sea = pd.read_csv('../data/tree_densities_Seattle.csv')\n",
    "walk_score_sf = pd.read_csv('../data/walk_scores_San Francisco.csv')\n",
    "walk_score_sea = pd.read_csv('../data/walk_scores_Seattle.csv')\n",
    "transit_score_sf = pd.read_csv('../data/transit_scores_San Francisco.csv')\n",
    "transit_score_sea = pd.read_csv('../data/transit_scores_Seattle.csv')"
   ]
  },
  {
   "cell_type": "code",
   "execution_count": 19,
   "metadata": {
    "collapsed": true
   },
   "outputs": [],
   "source": [
    "# merge each category for each city\n",
    "merged_sf = tree_density_sf.merge(walk_score_sf, on='Neighborhood', how='outer')\n",
    "merged_sf = merged_sf.merge(transit_score_sf, on='Neighborhood', how='outer')\n",
    "merged_sea = tree_density_sea.merge(walk_score_sea, on='Neighborhood', how='outer')\n",
    "merged_sea = merged_sea.merge(transit_score_sea, on='Neighborhood', how='outer')"
   ]
  },
  {
   "cell_type": "markdown",
   "metadata": {},
   "source": [
    "<h3>The magnitude of the tree density data is substantially higher than the walk and transit scores. Does scaling the tree density down by an order of magnitude change/improve the cosine similarity recommendations? I checked this to be sure, but it looks like it does not (which makes sense, given that we're looking at the angle, not the magnitude of the distance).</h3>"
   ]
  },
  {
   "cell_type": "code",
   "execution_count": 36,
   "metadata": {
    "collapsed": false
   },
   "outputs": [],
   "source": [
    "merged_sf_scaled = merged_sf\n",
    "merged_sea_scaled = merged_sea\n",
    "merged_sf_scaled['Tree Density (Trees / sq km)'] = merged_sf_scaled['Tree Density (Trees / sq km)'] / 10\n",
    "merged_sea_scaled['Tree Density (Trees / sq km)'] = merged_sea_scaled['Tree Density (Trees / sq km)'] / 10"
   ]
  },
  {
   "cell_type": "code",
   "execution_count": 38,
   "metadata": {
    "collapsed": false
   },
   "outputs": [
    {
     "data": {
      "text/html": [
       "<div>\n",
       "<table border=\"1\" class=\"dataframe\">\n",
       "  <thead>\n",
       "    <tr style=\"text-align: right;\">\n",
       "      <th></th>\n",
       "      <th>Neighborhood</th>\n",
       "      <th>Tree Density (Trees / sq km)</th>\n",
       "      <th>Walk Score</th>\n",
       "      <th>Transit Score</th>\n",
       "    </tr>\n",
       "  </thead>\n",
       "  <tbody>\n",
       "    <tr>\n",
       "      <th>0</th>\n",
       "      <td>Alamo Square</td>\n",
       "      <td>140.386358</td>\n",
       "      <td>95</td>\n",
       "      <td>91</td>\n",
       "    </tr>\n",
       "    <tr>\n",
       "      <th>1</th>\n",
       "      <td>Anza Vista</td>\n",
       "      <td>112.840169</td>\n",
       "      <td>93</td>\n",
       "      <td>82</td>\n",
       "    </tr>\n",
       "    <tr>\n",
       "      <th>2</th>\n",
       "      <td>Balboa Terrace</td>\n",
       "      <td>98.167991</td>\n",
       "      <td>85</td>\n",
       "      <td>72</td>\n",
       "    </tr>\n",
       "    <tr>\n",
       "      <th>3</th>\n",
       "      <td>Bayview</td>\n",
       "      <td>59.185486</td>\n",
       "      <td>88</td>\n",
       "      <td>70</td>\n",
       "    </tr>\n",
       "    <tr>\n",
       "      <th>4</th>\n",
       "      <td>Bayview Heights</td>\n",
       "      <td>32.536816</td>\n",
       "      <td>73</td>\n",
       "      <td>69</td>\n",
       "    </tr>\n",
       "  </tbody>\n",
       "</table>\n",
       "</div>"
      ],
      "text/plain": [
       "      Neighborhood  Tree Density (Trees / sq km)  Walk Score  Transit Score\n",
       "0     Alamo Square                    140.386358          95             91\n",
       "1       Anza Vista                    112.840169          93             82\n",
       "2   Balboa Terrace                     98.167991          85             72\n",
       "3          Bayview                     59.185486          88             70\n",
       "4  Bayview Heights                     32.536816          73             69"
      ]
     },
     "execution_count": 38,
     "metadata": {},
     "output_type": "execute_result"
    }
   ],
   "source": [
    "merged_sf_scaled.head()"
   ]
  },
  {
   "cell_type": "code",
   "execution_count": 39,
   "metadata": {
    "collapsed": false
   },
   "outputs": [],
   "source": [
    "def convert_hood_to_array(input_hood):\n",
    "    # convert to numpy array in format needed for cosine similarity comparison\n",
    "    input_hood = np.array(input_hood)[0][1:]\n",
    "    input_hood = input_hood.reshape(1, -1)\n",
    "    return input_hood\n",
    "\n",
    "def compare_hood_to_all_city_hoods(input_hood, hood_city_df, comparison_city_df, input_dict):\n",
    "    hood1 = hood_city_df.loc[hood_city_df['Neighborhood'] == input_hood]\n",
    "    hood1 = convert_hood_to_array(hood1)\n",
    "    for hood in comparison_city_df['Neighborhood']:\n",
    "        hood2 = comparison_city_df.loc[comparison_city_df['Neighborhood'] == hood]\n",
    "        hood2 = convert_hood_to_array(hood2)\n",
    "        if input_hood not in input_dict:\n",
    "            input_dict[input_hood] = {}\n",
    "            input_dict[input_hood][hood] = cosine_similarity(hood1, hood2)[0][0]\n",
    "        else:\n",
    "            input_dict[input_hood][hood] = cosine_similarity(hood1, hood2)[0][0]\n",
    "    return input_dict\n",
    "\n",
    "# compare all Seattle neighborhoods with all SF neighborhoods\n",
    "# note: one optimization for this will be to, instead of a dictionary of dictionaries,\n",
    "# have a dictionary of tuples (hood_name, cosine_similarity), sorted by c_s\n",
    "comparisons = {}\n",
    "for hood in merged_sea['Neighborhood']:\n",
    "    compare_hood_to_all_city_hoods(hood, merged_sea, merged_sf, comparisons)\n",
    "for hood in merged_sf['Neighborhood']:\n",
    "    compare_hood_to_all_city_hoods(hood, merged_sf, merged_sea, comparisons)\n",
    "\n",
    "comparisons_scaled = {}\n",
    "for hood in merged_sea_scaled['Neighborhood']:\n",
    "    compare_hood_to_all_city_hoods(hood, merged_sea_scaled, merged_sf_scaled, comparisons_scaled)\n",
    "for hood in merged_sf_scaled['Neighborhood']:\n",
    "    compare_hood_to_all_city_hoods(hood, merged_sf_scaled, merged_sea_scaled, comparisons_scaled)"
   ]
  },
  {
   "cell_type": "code",
   "execution_count": 41,
   "metadata": {
    "collapsed": false
   },
   "outputs": [
    {
     "name": "stdout",
     "output_type": "stream",
     "text": [
      "Cole Valley/Parnassus Heights 0.999931936497\n",
      "Balboa Terrace 0.99902622132\n",
      "Inner Mission 0.998944898608\n",
      "Bernal Heights 0.998696736341\n",
      "Anza Vista 0.998461120058\n"
     ]
    }
   ],
   "source": [
    "city = comparisons['Fremont']\n",
    "for k in sorted(city, key=city.get, reverse=True)[:5]:\n",
    "    print k, city[k]"
   ]
  },
  {
   "cell_type": "code",
   "execution_count": 42,
   "metadata": {
    "collapsed": false
   },
   "outputs": [
    {
     "name": "stdout",
     "output_type": "stream",
     "text": [
      "Cole Valley/Parnassus Heights 0.999931936497\n",
      "Balboa Terrace 0.99902622132\n",
      "Inner Mission 0.998944898608\n",
      "Bernal Heights 0.998696736341\n",
      "Anza Vista 0.998461120058\n"
     ]
    }
   ],
   "source": [
    "city_scaled = comparisons_scaled['Fremont']\n",
    "for k in sorted(city_scaled, key=city_scaled.get, reverse=True)[:5]:\n",
    "    print k, city_scaled[k]"
   ]
  },
  {
   "cell_type": "code",
   "execution_count": 43,
   "metadata": {
    "collapsed": false
   },
   "outputs": [
    {
     "data": {
      "text/html": [
       "<div>\n",
       "<table border=\"1\" class=\"dataframe\">\n",
       "  <thead>\n",
       "    <tr style=\"text-align: right;\">\n",
       "      <th></th>\n",
       "      <th>Neighborhood</th>\n",
       "      <th>Tree Density (Trees / sq km)</th>\n",
       "      <th>Walk Score</th>\n",
       "      <th>Transit Score</th>\n",
       "    </tr>\n",
       "  </thead>\n",
       "  <tbody>\n",
       "    <tr>\n",
       "      <th>12</th>\n",
       "      <td>Cole Valley/Parnassus Heights</td>\n",
       "      <td>105.846444</td>\n",
       "      <td>91</td>\n",
       "      <td>71</td>\n",
       "    </tr>\n",
       "  </tbody>\n",
       "</table>\n",
       "</div>"
      ],
      "text/plain": [
       "                     Neighborhood  Tree Density (Trees / sq km)  Walk Score  \\\n",
       "12  Cole Valley/Parnassus Heights                    105.846444          91   \n",
       "\n",
       "    Transit Score  \n",
       "12             71  "
      ]
     },
     "execution_count": 43,
     "metadata": {},
     "output_type": "execute_result"
    }
   ],
   "source": [
    "merged_sf[merged_sf['Neighborhood'] == 'Cole Valley/Parnassus Heights']"
   ]
  },
  {
   "cell_type": "code",
   "execution_count": 44,
   "metadata": {
    "collapsed": false
   },
   "outputs": [
    {
     "data": {
      "text/html": [
       "<div>\n",
       "<table border=\"1\" class=\"dataframe\">\n",
       "  <thead>\n",
       "    <tr style=\"text-align: right;\">\n",
       "      <th></th>\n",
       "      <th>Neighborhood</th>\n",
       "      <th>Tree Density (Trees / sq km)</th>\n",
       "      <th>Walk Score</th>\n",
       "      <th>Transit Score</th>\n",
       "    </tr>\n",
       "  </thead>\n",
       "  <tbody>\n",
       "    <tr>\n",
       "      <th>21</th>\n",
       "      <td>Fremont</td>\n",
       "      <td>89.017674</td>\n",
       "      <td>78</td>\n",
       "      <td>59</td>\n",
       "    </tr>\n",
       "  </tbody>\n",
       "</table>\n",
       "</div>"
      ],
      "text/plain": [
       "   Neighborhood  Tree Density (Trees / sq km)  Walk Score  Transit Score\n",
       "21      Fremont                     89.017674          78             59"
      ]
     },
     "execution_count": 44,
     "metadata": {},
     "output_type": "execute_result"
    }
   ],
   "source": [
    "merged_sea[merged_sea['Neighborhood'] == 'Fremont']"
   ]
  },
  {
   "cell_type": "code",
   "execution_count": 45,
   "metadata": {
    "collapsed": false
   },
   "outputs": [
    {
     "name": "stdout",
     "output_type": "stream",
     "text": [
      "Cole Valley/Parnassus Heights 0.99742846124\n",
      "Presidio Heights 0.995920157921\n",
      "Balboa Terrace 0.994913037768\n",
      "Bernal Heights 0.994772836823\n",
      "Inner Mission 0.994378413362\n"
     ]
    }
   ],
   "source": [
    "city = comparisons['Wallingford']\n",
    "for k in sorted(city, key=city.get, reverse=True)[:5]:\n",
    "    print k, city[k]"
   ]
  },
  {
   "cell_type": "code",
   "execution_count": null,
   "metadata": {
    "collapsed": true
   },
   "outputs": [],
   "source": []
  }
 ],
 "metadata": {
  "kernelspec": {
   "display_name": "Python 2",
   "language": "python",
   "name": "python2"
  },
  "language_info": {
   "codemirror_mode": {
    "name": "ipython",
    "version": 2
   },
   "file_extension": ".py",
   "mimetype": "text/x-python",
   "name": "python",
   "nbconvert_exporter": "python",
   "pygments_lexer": "ipython2",
   "version": "2.7.11"
  }
 },
 "nbformat": 4,
 "nbformat_minor": 0
}
